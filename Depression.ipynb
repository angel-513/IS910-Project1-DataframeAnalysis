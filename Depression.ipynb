{
 "cells": [
  {
   "cell_type": "markdown",
   "id": "2e9cf092-72af-46f7-bd3d-d5259b168f13",
   "metadata": {},
   "source": [
    "%pip install scipy"
   ]
  },
  {
   "cell_type": "markdown",
   "id": "6f8105fc-90b8-43dd-856c-d690b6963f7c",
   "metadata": {},
   "source": [
    "%pip install matplotlib"
   ]
  },
  {
   "cell_type": "code",
   "execution_count": 42,
   "id": "99edd3e2-b177-4b55-9bd6-312f1b29b2e0",
   "metadata": {},
   "outputs": [],
   "source": [
    "import pandas as pd\n",
    "import numpy as np\n",
    "import random\n",
    "import matplotlib.pyplot as plt\n",
    "\n",
    "from scipy.stats import truncnorm\n",
    "from scipy.stats import chi2_contingency\n",
    "import scipy.stats as stats\n"
   ]
  },
  {
   "cell_type": "markdown",
   "id": "ec11893b-df7b-4fc8-bd96-c720e35786d9",
   "metadata": {},
   "source": [
    "# 1. Selección de Dataset Original\n",
    "\n",
    "Seleccionen un dataset de Kaggle con las siguientes características:\n",
    "- Contiene variables categóricas y numéricas.\n",
    "- Es posible simular la expansión de registros usando las probabilidades de \n",
    "ocurrencia de las categorías.\n",
    "- Asegúrense de elegir un dataset con al menos 500 registros."
   ]
  },
  {
   "cell_type": "markdown",
   "id": "42e78ff0-f14b-4439-806b-75c17a3938c9",
   "metadata": {},
   "source": [
    "## Leer dataset"
   ]
  },
  {
   "cell_type": "code",
   "execution_count": 43,
   "id": "d652dc86-c26e-434d-9608-000ff5e3cda1",
   "metadata": {},
   "outputs": [],
   "source": [
    "df = pd.read_csv(\"Depression Student Dataset.csv\")"
   ]
  },
  {
   "cell_type": "markdown",
   "id": "4380fb82-9b5a-4139-a851-8e24a266947a",
   "metadata": {},
   "source": [
    "## Analizar los tipos de datos"
   ]
  },
  {
   "cell_type": "code",
   "execution_count": 44,
   "id": "83f79a37-91d0-4adb-9257-db5b91b2ec74",
   "metadata": {},
   "outputs": [],
   "source": [
    "df.columns = df.columns.str.lower()"
   ]
  },
  {
   "cell_type": "code",
   "execution_count": 45,
   "id": "f7155255-bc0c-4458-b07f-b624e4166d45",
   "metadata": {},
   "outputs": [
    {
     "data": {
      "text/plain": [
       "gender                                    object\n",
       "age                                        int64\n",
       "academic pressure                        float64\n",
       "study satisfaction                       float64\n",
       "sleep duration                            object\n",
       "dietary habits                            object\n",
       "have you ever had suicidal thoughts ?     object\n",
       "study hours                                int64\n",
       "financial stress                           int64\n",
       "family history of mental illness          object\n",
       "depression                                object\n",
       "dtype: object"
      ]
     },
     "execution_count": 45,
     "metadata": {},
     "output_type": "execute_result"
    }
   ],
   "source": [
    "df.dtypes"
   ]
  },
  {
   "cell_type": "markdown",
   "id": "ecdf3727-097c-4098-9403-a3845c6a42af",
   "metadata": {},
   "source": [
    "## Renombrando las columnas"
   ]
  },
  {
   "cell_type": "code",
   "execution_count": 46,
   "id": "3545728a-c4d7-4851-9f03-e9ba3179c2f0",
   "metadata": {},
   "outputs": [],
   "source": [
    "df.columns = ['gender','age','academic_pressure','study_satisfaction','sleep_duration','dietary_habits','suicidal_thoughts','study_hours','financial_stress','family_history','depression' ]"
   ]
  },
  {
   "cell_type": "markdown",
   "id": "91bfee94-bf84-4a57-9fdb-269650f0a6dc",
   "metadata": {},
   "source": [
    "## Agregando ID a los usuarios"
   ]
  },
  {
   "cell_type": "code",
   "execution_count": 47,
   "id": "882149f6-2fc0-4ae2-9ba5-2dbd9d4c39cd",
   "metadata": {},
   "outputs": [],
   "source": [
    "df['individual'] = range(1, len(df) + 1)\n"
   ]
  },
  {
   "cell_type": "markdown",
   "id": "cff24d8a-39aa-4a8a-a490-185e1d50c0b9",
   "metadata": {},
   "source": [
    "# 2. Análisis Exploratorio de Datos (EDA)\n",
    " Realicen un EDA completo en el dataset original, incluyendo:\n",
    " - Estadísticas descriptivas para las variables numéricas.\n",
    " - Distribuciones de las categorías principales.\n",
    " - Visualización de correlaciones entre variables.\n",
    " \n",
    "\n",
    "Con base en los resultados de este análisis, seleccionen las variables categóricas \n",
    "que utilizarán en el paso de simulación. No es necesario usar todas las variables \n",
    "categóricas; elijan las que sean más relevantes."
   ]
  },
  {
   "cell_type": "markdown",
   "id": "747f04cd-4849-40ae-8aca-807da5d26655",
   "metadata": {},
   "source": [
    "## Estadisticas descriptivas para las variables numéricas"
   ]
  },
  {
   "cell_type": "code",
   "execution_count": 48,
   "id": "9b1432e8-8768-4221-9799-4939c834739d",
   "metadata": {},
   "outputs": [
    {
     "data": {
      "text/plain": [
       "['age',\n",
       " 'academic_pressure',\n",
       " 'study_satisfaction',\n",
       " 'study_hours',\n",
       " 'financial_stress',\n",
       " 'individual']"
      ]
     },
     "execution_count": 48,
     "metadata": {},
     "output_type": "execute_result"
    }
   ],
   "source": [
    "num_cols = []\n",
    "\n",
    "for c in df.columns:\n",
    "    if (df[c].dtype == 'int64' or df[c].dtype =='float64'):    \n",
    "        num_cols.append(c)\n",
    "\n",
    "num_cols"
   ]
  },
  {
   "cell_type": "code",
   "execution_count": 49,
   "id": "552f4dbf-f088-49c8-8d88-eacad8ccf70e",
   "metadata": {},
   "outputs": [
    {
     "data": {
      "application/vnd.microsoft.datawrangler.viewer.v0+json": {
       "columns": [
        {
         "name": "index",
         "rawType": "int64",
         "type": "integer"
        },
        {
         "name": "age",
         "rawType": "int64",
         "type": "integer"
        },
        {
         "name": "academic_pressure",
         "rawType": "float64",
         "type": "float"
        },
        {
         "name": "study_satisfaction",
         "rawType": "float64",
         "type": "float"
        },
        {
         "name": "study_hours",
         "rawType": "int64",
         "type": "integer"
        },
        {
         "name": "financial_stress",
         "rawType": "int64",
         "type": "integer"
        },
        {
         "name": "individual",
         "rawType": "int64",
         "type": "integer"
        }
       ],
       "conversionMethod": "pd.DataFrame",
       "ref": "7dd1be69-8131-4713-93cb-8b43d09d3a1d",
       "rows": [
        [
         "0",
         "28",
         "2.0",
         "4.0",
         "9",
         "2",
         "1"
        ],
        [
         "1",
         "28",
         "4.0",
         "5.0",
         "7",
         "1",
         "2"
        ]
       ],
       "shape": {
        "columns": 6,
        "rows": 2
       }
      },
      "text/html": [
       "<div>\n",
       "<style scoped>\n",
       "    .dataframe tbody tr th:only-of-type {\n",
       "        vertical-align: middle;\n",
       "    }\n",
       "\n",
       "    .dataframe tbody tr th {\n",
       "        vertical-align: top;\n",
       "    }\n",
       "\n",
       "    .dataframe thead th {\n",
       "        text-align: right;\n",
       "    }\n",
       "</style>\n",
       "<table border=\"1\" class=\"dataframe\">\n",
       "  <thead>\n",
       "    <tr style=\"text-align: right;\">\n",
       "      <th></th>\n",
       "      <th>age</th>\n",
       "      <th>academic_pressure</th>\n",
       "      <th>study_satisfaction</th>\n",
       "      <th>study_hours</th>\n",
       "      <th>financial_stress</th>\n",
       "      <th>individual</th>\n",
       "    </tr>\n",
       "  </thead>\n",
       "  <tbody>\n",
       "    <tr>\n",
       "      <th>0</th>\n",
       "      <td>28</td>\n",
       "      <td>2.0</td>\n",
       "      <td>4.0</td>\n",
       "      <td>9</td>\n",
       "      <td>2</td>\n",
       "      <td>1</td>\n",
       "    </tr>\n",
       "    <tr>\n",
       "      <th>1</th>\n",
       "      <td>28</td>\n",
       "      <td>4.0</td>\n",
       "      <td>5.0</td>\n",
       "      <td>7</td>\n",
       "      <td>1</td>\n",
       "      <td>2</td>\n",
       "    </tr>\n",
       "  </tbody>\n",
       "</table>\n",
       "</div>"
      ],
      "text/plain": [
       "   age  academic_pressure  study_satisfaction  study_hours  financial_stress  \\\n",
       "0   28                2.0                 4.0            9                 2   \n",
       "1   28                4.0                 5.0            7                 1   \n",
       "\n",
       "   individual  \n",
       "0           1  \n",
       "1           2  "
      ]
     },
     "execution_count": 49,
     "metadata": {},
     "output_type": "execute_result"
    }
   ],
   "source": [
    "num_cols_df = pd.DataFrame(df[num_cols])\n",
    "num_cols_df.head(2)"
   ]
  },
  {
   "cell_type": "code",
   "execution_count": 50,
   "id": "4f21f98d-9bc6-43d5-bcf1-f641c21e7fae",
   "metadata": {},
   "outputs": [
    {
     "data": {
      "application/vnd.microsoft.datawrangler.viewer.v0+json": {
       "columns": [
        {
         "name": "index",
         "rawType": "object",
         "type": "string"
        },
        {
         "name": "age",
         "rawType": "float64",
         "type": "float"
        },
        {
         "name": "academic_pressure",
         "rawType": "float64",
         "type": "float"
        },
        {
         "name": "study_satisfaction",
         "rawType": "float64",
         "type": "float"
        },
        {
         "name": "study_hours",
         "rawType": "float64",
         "type": "float"
        },
        {
         "name": "financial_stress",
         "rawType": "float64",
         "type": "float"
        },
        {
         "name": "individual",
         "rawType": "float64",
         "type": "float"
        }
       ],
       "conversionMethod": "pd.DataFrame",
       "ref": "db3ef151-324d-47c3-b66f-f2650073ec7f",
       "rows": [
        [
         "count",
         "502.0",
         "502.0",
         "502.0",
         "502.0",
         "502.0",
         "502.0"
        ],
        [
         "mean",
         "26.241035856573706",
         "3.00398406374502",
         "3.0756972111553784",
         "6.404382470119522",
         "2.9282868525896415",
         "251.5"
        ],
        [
         "std",
         "4.896500575608593",
         "1.3900071309517898",
         "1.3734897392498213",
         "3.742433579762453",
         "1.4250526668092287",
         "145.05918332414072"
        ],
        [
         "min",
         "18.0",
         "1.0",
         "1.0",
         "0.0",
         "1.0",
         "1.0"
        ],
        [
         "25%",
         "22.0",
         "2.0",
         "2.0",
         "3.0",
         "2.0",
         "126.25"
        ],
        [
         "50%",
         "26.5",
         "3.0",
         "3.0",
         "7.0",
         "3.0",
         "251.5"
        ],
        [
         "75%",
         "30.0",
         "4.0",
         "4.0",
         "10.0",
         "4.0",
         "376.75"
        ],
        [
         "max",
         "34.0",
         "5.0",
         "5.0",
         "12.0",
         "5.0",
         "502.0"
        ]
       ],
       "shape": {
        "columns": 6,
        "rows": 8
       }
      },
      "text/html": [
       "<div>\n",
       "<style scoped>\n",
       "    .dataframe tbody tr th:only-of-type {\n",
       "        vertical-align: middle;\n",
       "    }\n",
       "\n",
       "    .dataframe tbody tr th {\n",
       "        vertical-align: top;\n",
       "    }\n",
       "\n",
       "    .dataframe thead th {\n",
       "        text-align: right;\n",
       "    }\n",
       "</style>\n",
       "<table border=\"1\" class=\"dataframe\">\n",
       "  <thead>\n",
       "    <tr style=\"text-align: right;\">\n",
       "      <th></th>\n",
       "      <th>age</th>\n",
       "      <th>academic_pressure</th>\n",
       "      <th>study_satisfaction</th>\n",
       "      <th>study_hours</th>\n",
       "      <th>financial_stress</th>\n",
       "      <th>individual</th>\n",
       "    </tr>\n",
       "  </thead>\n",
       "  <tbody>\n",
       "    <tr>\n",
       "      <th>count</th>\n",
       "      <td>502.000000</td>\n",
       "      <td>502.000000</td>\n",
       "      <td>502.000000</td>\n",
       "      <td>502.000000</td>\n",
       "      <td>502.000000</td>\n",
       "      <td>502.000000</td>\n",
       "    </tr>\n",
       "    <tr>\n",
       "      <th>mean</th>\n",
       "      <td>26.241036</td>\n",
       "      <td>3.003984</td>\n",
       "      <td>3.075697</td>\n",
       "      <td>6.404382</td>\n",
       "      <td>2.928287</td>\n",
       "      <td>251.500000</td>\n",
       "    </tr>\n",
       "    <tr>\n",
       "      <th>std</th>\n",
       "      <td>4.896501</td>\n",
       "      <td>1.390007</td>\n",
       "      <td>1.373490</td>\n",
       "      <td>3.742434</td>\n",
       "      <td>1.425053</td>\n",
       "      <td>145.059183</td>\n",
       "    </tr>\n",
       "    <tr>\n",
       "      <th>min</th>\n",
       "      <td>18.000000</td>\n",
       "      <td>1.000000</td>\n",
       "      <td>1.000000</td>\n",
       "      <td>0.000000</td>\n",
       "      <td>1.000000</td>\n",
       "      <td>1.000000</td>\n",
       "    </tr>\n",
       "    <tr>\n",
       "      <th>25%</th>\n",
       "      <td>22.000000</td>\n",
       "      <td>2.000000</td>\n",
       "      <td>2.000000</td>\n",
       "      <td>3.000000</td>\n",
       "      <td>2.000000</td>\n",
       "      <td>126.250000</td>\n",
       "    </tr>\n",
       "    <tr>\n",
       "      <th>50%</th>\n",
       "      <td>26.500000</td>\n",
       "      <td>3.000000</td>\n",
       "      <td>3.000000</td>\n",
       "      <td>7.000000</td>\n",
       "      <td>3.000000</td>\n",
       "      <td>251.500000</td>\n",
       "    </tr>\n",
       "    <tr>\n",
       "      <th>75%</th>\n",
       "      <td>30.000000</td>\n",
       "      <td>4.000000</td>\n",
       "      <td>4.000000</td>\n",
       "      <td>10.000000</td>\n",
       "      <td>4.000000</td>\n",
       "      <td>376.750000</td>\n",
       "    </tr>\n",
       "    <tr>\n",
       "      <th>max</th>\n",
       "      <td>34.000000</td>\n",
       "      <td>5.000000</td>\n",
       "      <td>5.000000</td>\n",
       "      <td>12.000000</td>\n",
       "      <td>5.000000</td>\n",
       "      <td>502.000000</td>\n",
       "    </tr>\n",
       "  </tbody>\n",
       "</table>\n",
       "</div>"
      ],
      "text/plain": [
       "              age  academic_pressure  study_satisfaction  study_hours  \\\n",
       "count  502.000000         502.000000          502.000000   502.000000   \n",
       "mean    26.241036           3.003984            3.075697     6.404382   \n",
       "std      4.896501           1.390007            1.373490     3.742434   \n",
       "min     18.000000           1.000000            1.000000     0.000000   \n",
       "25%     22.000000           2.000000            2.000000     3.000000   \n",
       "50%     26.500000           3.000000            3.000000     7.000000   \n",
       "75%     30.000000           4.000000            4.000000    10.000000   \n",
       "max     34.000000           5.000000            5.000000    12.000000   \n",
       "\n",
       "       financial_stress  individual  \n",
       "count        502.000000  502.000000  \n",
       "mean           2.928287  251.500000  \n",
       "std            1.425053  145.059183  \n",
       "min            1.000000    1.000000  \n",
       "25%            2.000000  126.250000  \n",
       "50%            3.000000  251.500000  \n",
       "75%            4.000000  376.750000  \n",
       "max            5.000000  502.000000  "
      ]
     },
     "execution_count": 50,
     "metadata": {},
     "output_type": "execute_result"
    }
   ],
   "source": [
    "num_cols_df.describe()"
   ]
  },
  {
   "cell_type": "code",
   "execution_count": 51,
   "id": "ac7ec264",
   "metadata": {},
   "outputs": [
    {
     "data": {
      "image/png": "[encoded data removed]",
      "text/plain": [
       "<Figure size 1000x600 with 1 Axes>"
      ]
     },
     "metadata": {},
     "output_type": "display_data"
    },
    {
     "data": {
      "image/png": "[encoded data removed]",
      "text/plain": [
       "<Figure size 1000x600 with 1 Axes>"
      ]
     },
     "metadata": {},
     "output_type": "display_data"
    },
    {
     "data": {
      "image/png": "[encoded data removed]",
      "text/plain": [
       "<Figure size 1000x600 with 1 Axes>"
      ]
     },
     "metadata": {},
     "output_type": "display_data"
    },
    {
     "data": {
      "image/png": "[encoded data removed]",
      "text/plain": [
       "<Figure size 1000x600 with 1 Axes>"
      ]
     },
     "metadata": {},
     "output_type": "display_data"
    },
    {
     "data": {
      "image/png": "[encoded data removed]",
      "text/plain": [
       "<Figure size 1000x600 with 1 Axes>"
      ]
     },
     "metadata": {},
     "output_type": "display_data"
    },
    {
     "data": {
      "image/png": "[encoded data removed]",
      "text/plain": [
       "<Figure size 1000x600 with 1 Axes>"
      ]
     },
     "metadata": {},
     "output_type": "display_data"
    }
   ],
   "source": [
    "for num_col in num_cols_df.columns:\n",
    "    plt.figure(figsize=(10, 6))\n",
    "    plt.hist(df[num_col], bins=20, color='skyblue', edgecolor='black', alpha=0.7)\n",
    "\n",
    "    plt.title(f'Histograma de {num_col}', fontsize=16)\n",
    "    plt.xlabel(f'{num_col}', fontsize=14)\n",
    "    plt.ylabel('Frecuencia', fontsize=14)\n",
    "    plt.grid(True, axis='y', linestyle='--', alpha=0.7)\n",
    "\n",
    "    plt.tight_layout()\n",
    "    plt.show()\n"
   ]
  },
  {
   "cell_type": "markdown",
   "id": "7e800198-c295-4d1b-a3d4-bc86e27c4d60",
   "metadata": {},
   "source": [
    "## Distribuciones de las categorías principales"
   ]
  },
  {
   "cell_type": "code",
   "execution_count": 52,
   "id": "1429541d-18f0-4adb-bbb2-1634a4efa637",
   "metadata": {},
   "outputs": [
    {
     "data": {
      "text/plain": [
       "['gender',\n",
       " 'sleep_duration',\n",
       " 'dietary_habits',\n",
       " 'suicidal_thoughts',\n",
       " 'family_history',\n",
       " 'depression']"
      ]
     },
     "execution_count": 52,
     "metadata": {},
     "output_type": "execute_result"
    }
   ],
   "source": [
    "cat_cols = []\n",
    "\n",
    "for c in df.columns:\n",
    "    if df[c].dtype == 'object':\n",
    "        cat_cols.append(c)\n",
    "\n",
    "cat_cols"
   ]
  },
  {
   "cell_type": "markdown",
   "id": "8605862f",
   "metadata": {},
   "source": [
    "## Visualización de correlación entre variables"
   ]
  },
  {
   "cell_type": "markdown",
   "id": "45759c9d",
   "metadata": {},
   "source": [
    "Dado que nuestro target es la depresión en los estudiantes, aplicamos la prueba Chi Cuadrado a esta variable para saber cuáles son las variables categóricas más influyentes."
   ]
  },
  {
   "cell_type": "code",
   "execution_count": 53,
   "id": "a76499b0",
   "metadata": {},
   "outputs": [
    {
     "data": {
      "application/vnd.microsoft.datawrangler.viewer.v0+json": {
       "columns": [
        {
         "name": "index",
         "rawType": "object",
         "type": "string"
        },
        {
         "name": "gender",
         "rawType": "float64",
         "type": "float"
        },
        {
         "name": "sleep_duration",
         "rawType": "float64",
         "type": "float"
        },
        {
         "name": "dietary_habits",
         "rawType": "float64",
         "type": "float"
        },
        {
         "name": "suicidal_thoughts",
         "rawType": "float64",
         "type": "float"
        },
        {
         "name": "family_history",
         "rawType": "float64",
         "type": "float"
        },
        {
         "name": "depression",
         "rawType": "float64",
         "type": "float"
        }
       ],
       "conversionMethod": "pd.DataFrame",
       "ref": "e1ed5c52-61b5-4781-b1bb-224bd9b73bcc",
       "rows": [
        [
         "chi2",
         "0.38492984630407523",
         "2.211071033359143",
         "18.06921526180028",
         "107.29249523153612",
         "1.362453944244154",
         "498.00790488838504"
        ],
        [
         "p_value",
         "0.5349766034660102",
         "0.5297710162329188",
         "0.00011921194115207693",
         "3.840860716984221e-25",
         "0.2431126440218774",
         "2.5787645789552856e-110"
        ]
       ],
       "shape": {
        "columns": 6,
        "rows": 2
       }
      },
      "text/html": [
       "<div>\n",
       "<style scoped>\n",
       "    .dataframe tbody tr th:only-of-type {\n",
       "        vertical-align: middle;\n",
       "    }\n",
       "\n",
       "    .dataframe tbody tr th {\n",
       "        vertical-align: top;\n",
       "    }\n",
       "\n",
       "    .dataframe thead th {\n",
       "        text-align: right;\n",
       "    }\n",
       "</style>\n",
       "<table border=\"1\" class=\"dataframe\">\n",
       "  <thead>\n",
       "    <tr style=\"text-align: right;\">\n",
       "      <th></th>\n",
       "      <th>gender</th>\n",
       "      <th>sleep_duration</th>\n",
       "      <th>dietary_habits</th>\n",
       "      <th>suicidal_thoughts</th>\n",
       "      <th>family_history</th>\n",
       "      <th>depression</th>\n",
       "    </tr>\n",
       "  </thead>\n",
       "  <tbody>\n",
       "    <tr>\n",
       "      <th>chi2</th>\n",
       "      <td>0.384930</td>\n",
       "      <td>2.211071</td>\n",
       "      <td>18.069215</td>\n",
       "      <td>1.072925e+02</td>\n",
       "      <td>1.362454</td>\n",
       "      <td>4.980079e+02</td>\n",
       "    </tr>\n",
       "    <tr>\n",
       "      <th>p_value</th>\n",
       "      <td>0.534977</td>\n",
       "      <td>0.529771</td>\n",
       "      <td>0.000119</td>\n",
       "      <td>3.840861e-25</td>\n",
       "      <td>0.243113</td>\n",
       "      <td>2.578765e-110</td>\n",
       "    </tr>\n",
       "  </tbody>\n",
       "</table>\n",
       "</div>"
      ],
      "text/plain": [
       "           gender  sleep_duration  dietary_habits  suicidal_thoughts  \\\n",
       "chi2     0.384930        2.211071       18.069215       1.072925e+02   \n",
       "p_value  0.534977        0.529771        0.000119       3.840861e-25   \n",
       "\n",
       "         family_history     depression  \n",
       "chi2           1.362454   4.980079e+02  \n",
       "p_value        0.243113  2.578765e-110  "
      ]
     },
     "execution_count": 53,
     "metadata": {},
     "output_type": "execute_result"
    }
   ],
   "source": [
    "chi2_results = {}\n",
    "for col in cat_cols:\n",
    "    contingency = pd.crosstab(df[col], df['depression'])\n",
    "    chi2, p, dof, expected = chi2_contingency(contingency)\n",
    "    chi2_results[col] = {'chi2': chi2, 'p_value': p}\n",
    "\n",
    "chi2_df = pd.DataFrame(chi2_results)\n",
    "chi2_df"
   ]
  },
  {
   "cell_type": "code",
   "execution_count": 54,
   "id": "1253ce27",
   "metadata": {},
   "outputs": [
    {
     "data": {
      "image/png": "[encoded data removed]",
      "text/plain": [
       "<Figure size 1000x800 with 2 Axes>"
      ]
     },
     "metadata": {},
     "output_type": "display_data"
    }
   ],
   "source": [
    "variables = [x[0] for x in chi2_results.items()]\n",
    "p_values = [x[1]['p_value'] for x in chi2_results.items()]\n",
    "chi2_values = [x[1]['chi2'] for x in chi2_results.items()]\n",
    "\n",
    "fig, ax = plt.subplots(2, 1, figsize=(10, 8))\n",
    "\n",
    "ax[0].barh(variables, chi2_values, color='skyblue')\n",
    "ax[0].set_title('Valores de chi cuadrado por variable')\n",
    "ax[0].set_xlabel('Chi cuadrado')\n",
    "ax[0].set_xscale('log')\n",
    "\n",
    "ax[1].barh(variables, p_values, color='salmon')\n",
    "ax[1].set_title('Valores p por variable')\n",
    "ax[1].set_xlabel('p valor')\n",
    "ax[1].set_xscale('log')\n",
    "\n",
    "plt.tight_layout()\n",
    "plt.show()"
   ]
  },
  {
   "cell_type": "markdown",
   "id": "6b5821e7",
   "metadata": {},
   "source": [
    "Eliminamos las variables categóricas menos importantes para nuestro estudio:"
   ]
  },
  {
   "cell_type": "code",
   "execution_count": 55,
   "id": "5cfaef8c",
   "metadata": {},
   "outputs": [
    {
     "data": {
      "text/plain": [
       "['dietary_habits', 'suicidal_thoughts', 'family_history', 'depression']"
      ]
     },
     "execution_count": 55,
     "metadata": {},
     "output_type": "execute_result"
    }
   ],
   "source": [
    "cat_cols.remove('gender')\n",
    "cat_cols.remove('sleep_duration')\n",
    "cat_cols"
   ]
  },
  {
   "cell_type": "markdown",
   "id": "87f7cbd5",
   "metadata": {},
   "source": [
    "## Agrupaciones para obtener las distribuciones probabilísticas de las categorías principales"
   ]
  },
  {
   "cell_type": "code",
   "execution_count": 56,
   "id": "1bfd7794",
   "metadata": {},
   "outputs": [
    {
     "data": {
      "application/vnd.microsoft.datawrangler.viewer.v0+json": {
       "columns": [
        {
         "name": "index",
         "rawType": "int64",
         "type": "integer"
        },
        {
         "name": "dietary_habits",
         "rawType": "object",
         "type": "string"
        },
        {
         "name": "suicidal_thoughts",
         "rawType": "object",
         "type": "string"
        },
        {
         "name": "family_history",
         "rawType": "object",
         "type": "string"
        },
        {
         "name": "depression",
         "rawType": "object",
         "type": "string"
        },
        {
         "name": "individuals",
         "rawType": "float64",
         "type": "float"
        }
       ],
       "conversionMethod": "pd.DataFrame",
       "ref": "06217ce3-4db4-4636-a524-fab6d0629fab",
       "rows": [
        [
         "0",
         "Healthy",
         "No",
         "No",
         "No",
         "0.0697211155378486"
        ],
        [
         "1",
         "Healthy",
         "No",
         "No",
         "Yes",
         "0.01195219123505976"
        ],
        [
         "2",
         "Healthy",
         "No",
         "Yes",
         "No",
         "0.06772908366533864"
        ],
        [
         "3",
         "Healthy",
         "No",
         "Yes",
         "Yes",
         "0.01593625498007968"
        ],
        [
         "4",
         "Healthy",
         "Yes",
         "No",
         "No",
         "0.03386454183266932"
        ],
        [
         "5",
         "Healthy",
         "Yes",
         "No",
         "Yes",
         "0.04183266932270916"
        ],
        [
         "6",
         "Healthy",
         "Yes",
         "Yes",
         "No",
         "0.021912350597609563"
        ],
        [
         "7",
         "Healthy",
         "Yes",
         "Yes",
         "Yes",
         "0.05776892430278884"
        ],
        [
         "8",
         "Moderate",
         "No",
         "No",
         "No",
         "0.0697211155378486"
        ],
        [
         "9",
         "Moderate",
         "No",
         "No",
         "Yes",
         "0.021912350597609563"
        ],
        [
         "10",
         "Moderate",
         "No",
         "Yes",
         "No",
         "0.061752988047808766"
        ],
        [
         "11",
         "Moderate",
         "No",
         "Yes",
         "Yes",
         "0.01593625498007968"
        ],
        [
         "12",
         "Moderate",
         "Yes",
         "No",
         "No",
         "0.029880478087649404"
        ],
        [
         "13",
         "Moderate",
         "Yes",
         "No",
         "Yes",
         "0.06772908366533864"
        ],
        [
         "14",
         "Moderate",
         "Yes",
         "Yes",
         "No",
         "0.017928286852589643"
        ],
        [
         "15",
         "Moderate",
         "Yes",
         "Yes",
         "Yes",
         "0.05776892430278884"
        ],
        [
         "16",
         "Unhealthy",
         "No",
         "No",
         "No",
         "0.049800796812749"
        ],
        [
         "17",
         "Unhealthy",
         "No",
         "No",
         "Yes",
         "0.029880478087649404"
        ],
        [
         "18",
         "Unhealthy",
         "No",
         "Yes",
         "No",
         "0.037848605577689244"
        ],
        [
         "19",
         "Unhealthy",
         "No",
         "Yes",
         "Yes",
         "0.029880478087649404"
        ],
        [
         "20",
         "Unhealthy",
         "Yes",
         "No",
         "No",
         "0.02390438247011952"
        ],
        [
         "21",
         "Unhealthy",
         "Yes",
         "No",
         "Yes",
         "0.07768924302788845"
        ],
        [
         "22",
         "Unhealthy",
         "Yes",
         "Yes",
         "No",
         "0.013944223107569721"
        ],
        [
         "23",
         "Unhealthy",
         "Yes",
         "Yes",
         "Yes",
         "0.07370517928286853"
        ]
       ],
       "shape": {
        "columns": 5,
        "rows": 24
       }
      },
      "text/html": [
       "<div>\n",
       "<style scoped>\n",
       "    .dataframe tbody tr th:only-of-type {\n",
       "        vertical-align: middle;\n",
       "    }\n",
       "\n",
       "    .dataframe tbody tr th {\n",
       "        vertical-align: top;\n",
       "    }\n",
       "\n",
       "    .dataframe thead th {\n",
       "        text-align: right;\n",
       "    }\n",
       "</style>\n",
       "<table border=\"1\" class=\"dataframe\">\n",
       "  <thead>\n",
       "    <tr style=\"text-align: right;\">\n",
       "      <th></th>\n",
       "      <th>dietary_habits</th>\n",
       "      <th>suicidal_thoughts</th>\n",
       "      <th>family_history</th>\n",
       "      <th>depression</th>\n",
       "      <th>individuals</th>\n",
       "    </tr>\n",
       "  </thead>\n",
       "  <tbody>\n",
       "    <tr>\n",
       "      <th>0</th>\n",
       "      <td>Healthy</td>\n",
       "      <td>No</td>\n",
       "      <td>No</td>\n",
       "      <td>No</td>\n",
       "      <td>0.069721</td>\n",
       "    </tr>\n",
       "    <tr>\n",
       "      <th>1</th>\n",
       "      <td>Healthy</td>\n",
       "      <td>No</td>\n",
       "      <td>No</td>\n",
       "      <td>Yes</td>\n",
       "      <td>0.011952</td>\n",
       "    </tr>\n",
       "    <tr>\n",
       "      <th>2</th>\n",
       "      <td>Healthy</td>\n",
       "      <td>No</td>\n",
       "      <td>Yes</td>\n",
       "      <td>No</td>\n",
       "      <td>0.067729</td>\n",
       "    </tr>\n",
       "    <tr>\n",
       "      <th>3</th>\n",
       "      <td>Healthy</td>\n",
       "      <td>No</td>\n",
       "      <td>Yes</td>\n",
       "      <td>Yes</td>\n",
       "      <td>0.015936</td>\n",
       "    </tr>\n",
       "    <tr>\n",
       "      <th>4</th>\n",
       "      <td>Healthy</td>\n",
       "      <td>Yes</td>\n",
       "      <td>No</td>\n",
       "      <td>No</td>\n",
       "      <td>0.033865</td>\n",
       "    </tr>\n",
       "    <tr>\n",
       "      <th>5</th>\n",
       "      <td>Healthy</td>\n",
       "      <td>Yes</td>\n",
       "      <td>No</td>\n",
       "      <td>Yes</td>\n",
       "      <td>0.041833</td>\n",
       "    </tr>\n",
       "    <tr>\n",
       "      <th>6</th>\n",
       "      <td>Healthy</td>\n",
       "      <td>Yes</td>\n",
       "      <td>Yes</td>\n",
       "      <td>No</td>\n",
       "      <td>0.021912</td>\n",
       "    </tr>\n",
       "    <tr>\n",
       "      <th>7</th>\n",
       "      <td>Healthy</td>\n",
       "      <td>Yes</td>\n",
       "      <td>Yes</td>\n",
       "      <td>Yes</td>\n",
       "      <td>0.057769</td>\n",
       "    </tr>\n",
       "    <tr>\n",
       "      <th>8</th>\n",
       "      <td>Moderate</td>\n",
       "      <td>No</td>\n",
       "      <td>No</td>\n",
       "      <td>No</td>\n",
       "      <td>0.069721</td>\n",
       "    </tr>\n",
       "    <tr>\n",
       "      <th>9</th>\n",
       "      <td>Moderate</td>\n",
       "      <td>No</td>\n",
       "      <td>No</td>\n",
       "      <td>Yes</td>\n",
       "      <td>0.021912</td>\n",
       "    </tr>\n",
       "    <tr>\n",
       "      <th>10</th>\n",
       "      <td>Moderate</td>\n",
       "      <td>No</td>\n",
       "      <td>Yes</td>\n",
       "      <td>No</td>\n",
       "      <td>0.061753</td>\n",
       "    </tr>\n",
       "    <tr>\n",
       "      <th>11</th>\n",
       "      <td>Moderate</td>\n",
       "      <td>No</td>\n",
       "      <td>Yes</td>\n",
       "      <td>Yes</td>\n",
       "      <td>0.015936</td>\n",
       "    </tr>\n",
       "    <tr>\n",
       "      <th>12</th>\n",
       "      <td>Moderate</td>\n",
       "      <td>Yes</td>\n",
       "      <td>No</td>\n",
       "      <td>No</td>\n",
       "      <td>0.029880</td>\n",
       "    </tr>\n",
       "    <tr>\n",
       "      <th>13</th>\n",
       "      <td>Moderate</td>\n",
       "      <td>Yes</td>\n",
       "      <td>No</td>\n",
       "      <td>Yes</td>\n",
       "      <td>0.067729</td>\n",
       "    </tr>\n",
       "    <tr>\n",
       "      <th>14</th>\n",
       "      <td>Moderate</td>\n",
       "      <td>Yes</td>\n",
       "      <td>Yes</td>\n",
       "      <td>No</td>\n",
       "      <td>0.017928</td>\n",
       "    </tr>\n",
       "    <tr>\n",
       "      <th>15</th>\n",
       "      <td>Moderate</td>\n",
       "      <td>Yes</td>\n",
       "      <td>Yes</td>\n",
       "      <td>Yes</td>\n",
       "      <td>0.057769</td>\n",
       "    </tr>\n",
       "    <tr>\n",
       "      <th>16</th>\n",
       "      <td>Unhealthy</td>\n",
       "      <td>No</td>\n",
       "      <td>No</td>\n",
       "      <td>No</td>\n",
       "      <td>0.049801</td>\n",
       "    </tr>\n",
       "    <tr>\n",
       "      <th>17</th>\n",
       "      <td>Unhealthy</td>\n",
       "      <td>No</td>\n",
       "      <td>No</td>\n",
       "      <td>Yes</td>\n",
       "      <td>0.029880</td>\n",
       "    </tr>\n",
       "    <tr>\n",
       "      <th>18</th>\n",
       "      <td>Unhealthy</td>\n",
       "      <td>No</td>\n",
       "      <td>Yes</td>\n",
       "      <td>No</td>\n",
       "      <td>0.037849</td>\n",
       "    </tr>\n",
       "    <tr>\n",
       "      <th>19</th>\n",
       "      <td>Unhealthy</td>\n",
       "      <td>No</td>\n",
       "      <td>Yes</td>\n",
       "      <td>Yes</td>\n",
       "      <td>0.029880</td>\n",
       "    </tr>\n",
       "    <tr>\n",
       "      <th>20</th>\n",
       "      <td>Unhealthy</td>\n",
       "      <td>Yes</td>\n",
       "      <td>No</td>\n",
       "      <td>No</td>\n",
       "      <td>0.023904</td>\n",
       "    </tr>\n",
       "    <tr>\n",
       "      <th>21</th>\n",
       "      <td>Unhealthy</td>\n",
       "      <td>Yes</td>\n",
       "      <td>No</td>\n",
       "      <td>Yes</td>\n",
       "      <td>0.077689</td>\n",
       "    </tr>\n",
       "    <tr>\n",
       "      <th>22</th>\n",
       "      <td>Unhealthy</td>\n",
       "      <td>Yes</td>\n",
       "      <td>Yes</td>\n",
       "      <td>No</td>\n",
       "      <td>0.013944</td>\n",
       "    </tr>\n",
       "    <tr>\n",
       "      <th>23</th>\n",
       "      <td>Unhealthy</td>\n",
       "      <td>Yes</td>\n",
       "      <td>Yes</td>\n",
       "      <td>Yes</td>\n",
       "      <td>0.073705</td>\n",
       "    </tr>\n",
       "  </tbody>\n",
       "</table>\n",
       "</div>"
      ],
      "text/plain": [
       "   dietary_habits suicidal_thoughts family_history depression  individuals\n",
       "0         Healthy                No             No         No     0.069721\n",
       "1         Healthy                No             No        Yes     0.011952\n",
       "2         Healthy                No            Yes         No     0.067729\n",
       "3         Healthy                No            Yes        Yes     0.015936\n",
       "4         Healthy               Yes             No         No     0.033865\n",
       "5         Healthy               Yes             No        Yes     0.041833\n",
       "6         Healthy               Yes            Yes         No     0.021912\n",
       "7         Healthy               Yes            Yes        Yes     0.057769\n",
       "8        Moderate                No             No         No     0.069721\n",
       "9        Moderate                No             No        Yes     0.021912\n",
       "10       Moderate                No            Yes         No     0.061753\n",
       "11       Moderate                No            Yes        Yes     0.015936\n",
       "12       Moderate               Yes             No         No     0.029880\n",
       "13       Moderate               Yes             No        Yes     0.067729\n",
       "14       Moderate               Yes            Yes         No     0.017928\n",
       "15       Moderate               Yes            Yes        Yes     0.057769\n",
       "16      Unhealthy                No             No         No     0.049801\n",
       "17      Unhealthy                No             No        Yes     0.029880\n",
       "18      Unhealthy                No            Yes         No     0.037849\n",
       "19      Unhealthy                No            Yes        Yes     0.029880\n",
       "20      Unhealthy               Yes             No         No     0.023904\n",
       "21      Unhealthy               Yes             No        Yes     0.077689\n",
       "22      Unhealthy               Yes            Yes         No     0.013944\n",
       "23      Unhealthy               Yes            Yes        Yes     0.073705"
      ]
     },
     "execution_count": 56,
     "metadata": {},
     "output_type": "execute_result"
    }
   ],
   "source": [
    "prob_freq = df.groupby(cat_cols, as_index = False).agg({\n",
    "    \"individual\" : [\"count\"]\n",
    "})\n",
    "\n",
    "prob_freq.columns = cat_cols + ['individuals']\n",
    "prob_freq['individuals'] = prob_freq['individuals'] / df.shape[0]\n",
    "prob_freq"
   ]
  },
  {
   "cell_type": "markdown",
   "id": "27cd2cb3-ea3a-4fbe-84fa-1a7c56d6343a",
   "metadata": {},
   "source": [
    "# 3. Simulación del Dataset Expandido\n",
    "Usen las técnicas de expansión de datos presentadas en el notebook para \n",
    "generar un nuevo dataset con al menos 100,000 registros.\n",
    " \n",
    "En el proceso, consideren:\n",
    "- Calcular la probabilidad de ocurrencia de cada categoría y usar estas \n",
    "probabilidades para la expansión.\n",
    "- Generar valores numéricos basados en la distribución de los valores originales \n",
    "y ajustar la distribución con la eliminación de valores atípicos.\n",
    "- Eliminen los valores atípicos en las variables numéricas de acuerdo con las \n",
    "categorías seleccionadas para asegurar que los datos simulados mantengan \n",
    "una distribución realista."
   ]
  },
  {
   "cell_type": "markdown",
   "id": "81922e9c-30ac-462a-a8b6-3043393263e1",
   "metadata": {},
   "source": [
    "## Eliminar valores atípicos"
   ]
  },
  {
   "cell_type": "code",
   "execution_count": 57,
   "id": "4fcdc665-571c-4c17-ab50-3458c1c24317",
   "metadata": {},
   "outputs": [],
   "source": [
    "transformations = {}\n",
    "new_cols = []\n",
    "\n",
    "for c in num_cols:\n",
    "    transformations[c] = [('lower_bound', lambda x: x.quantile(0.25) - 1.5*(x.quantile(0.75) - x.quantile(0.25)) ),\n",
    "                          ('upper_bound', lambda x: x.quantile(0.75) + 1.5*(x.quantile(0.75) - x.quantile(0.25)) )\n",
    "                        ]\n",
    "    new_cols.append(f'{c}_lower_bound')\n",
    "    new_cols.append(f'{c}_upper_bound')"
   ]
  },
  {
   "cell_type": "code",
   "execution_count": 58,
   "id": "526cb5fe-0e52-4dbc-9a85-482c401cee60",
   "metadata": {},
   "outputs": [],
   "source": [
    "df_results = df.groupby(cat_cols, as_index = False ).agg(transformations)"
   ]
  },
  {
   "cell_type": "code",
   "execution_count": 59,
   "id": "310c7a3a-a72f-4fbb-b2bd-243a426c42a1",
   "metadata": {},
   "outputs": [],
   "source": [
    "df_results.columns = cat_cols + new_cols"
   ]
  },
  {
   "cell_type": "code",
   "execution_count": 60,
   "id": "fed5ed3b-99ec-47e1-aea6-267244a581be",
   "metadata": {},
   "outputs": [
    {
     "data": {
      "application/vnd.microsoft.datawrangler.viewer.v0+json": {
       "columns": [
        {
         "name": "index",
         "rawType": "int64",
         "type": "integer"
        },
        {
         "name": "dietary_habits",
         "rawType": "object",
         "type": "string"
        },
        {
         "name": "suicidal_thoughts",
         "rawType": "object",
         "type": "string"
        },
        {
         "name": "family_history",
         "rawType": "object",
         "type": "string"
        },
        {
         "name": "depression",
         "rawType": "object",
         "type": "string"
        },
        {
         "name": "age_lower_bound",
         "rawType": "float64",
         "type": "float"
        },
        {
         "name": "age_upper_bound",
         "rawType": "float64",
         "type": "float"
        },
        {
         "name": "academic_pressure_lower_bound",
         "rawType": "float64",
         "type": "float"
        },
        {
         "name": "academic_pressure_upper_bound",
         "rawType": "float64",
         "type": "float"
        },
        {
         "name": "study_satisfaction_lower_bound",
         "rawType": "float64",
         "type": "float"
        },
        {
         "name": "study_satisfaction_upper_bound",
         "rawType": "float64",
         "type": "float"
        },
        {
         "name": "study_hours_lower_bound",
         "rawType": "float64",
         "type": "float"
        },
        {
         "name": "study_hours_upper_bound",
         "rawType": "float64",
         "type": "float"
        },
        {
         "name": "financial_stress_lower_bound",
         "rawType": "float64",
         "type": "float"
        },
        {
         "name": "financial_stress_upper_bound",
         "rawType": "float64",
         "type": "float"
        },
        {
         "name": "individual_lower_bound",
         "rawType": "float64",
         "type": "float"
        },
        {
         "name": "individual_upper_bound",
         "rawType": "float64",
         "type": "float"
        }
       ],
       "conversionMethod": "pd.DataFrame",
       "ref": "660164f9-4957-46ab-88a9-644045ebb119",
       "rows": [
        [
         "0",
         "Healthy",
         "No",
         "No",
         "No",
         "13.5",
         "41.5",
         "-1.0",
         "7.0",
         "-1.0",
         "7.0",
         "-6.0",
         "18.0",
         "0.5",
         "4.5",
         "-286.75",
         "727.25"
        ],
        [
         "1",
         "Healthy",
         "No",
         "No",
         "Yes",
         "21.5",
         "25.5",
         "3.125",
         "6.125",
         "-0.125",
         "2.875",
         "5.375",
         "12.375",
         "0.625",
         "7.625",
         "-93.25",
         "408.75"
        ]
       ],
       "shape": {
        "columns": 16,
        "rows": 2
       }
      },
      "text/html": [
       "<div>\n",
       "<style scoped>\n",
       "    .dataframe tbody tr th:only-of-type {\n",
       "        vertical-align: middle;\n",
       "    }\n",
       "\n",
       "    .dataframe tbody tr th {\n",
       "        vertical-align: top;\n",
       "    }\n",
       "\n",
       "    .dataframe thead th {\n",
       "        text-align: right;\n",
       "    }\n",
       "</style>\n",
       "<table border=\"1\" class=\"dataframe\">\n",
       "  <thead>\n",
       "    <tr style=\"text-align: right;\">\n",
       "      <th></th>\n",
       "      <th>dietary_habits</th>\n",
       "      <th>suicidal_thoughts</th>\n",
       "      <th>family_history</th>\n",
       "      <th>depression</th>\n",
       "      <th>age_lower_bound</th>\n",
       "      <th>age_upper_bound</th>\n",
       "      <th>academic_pressure_lower_bound</th>\n",
       "      <th>academic_pressure_upper_bound</th>\n",
       "      <th>study_satisfaction_lower_bound</th>\n",
       "      <th>study_satisfaction_upper_bound</th>\n",
       "      <th>study_hours_lower_bound</th>\n",
       "      <th>study_hours_upper_bound</th>\n",
       "      <th>financial_stress_lower_bound</th>\n",
       "      <th>financial_stress_upper_bound</th>\n",
       "      <th>individual_lower_bound</th>\n",
       "      <th>individual_upper_bound</th>\n",
       "    </tr>\n",
       "  </thead>\n",
       "  <tbody>\n",
       "    <tr>\n",
       "      <th>0</th>\n",
       "      <td>Healthy</td>\n",
       "      <td>No</td>\n",
       "      <td>No</td>\n",
       "      <td>No</td>\n",
       "      <td>13.5</td>\n",
       "      <td>41.5</td>\n",
       "      <td>-1.000</td>\n",
       "      <td>7.000</td>\n",
       "      <td>-1.000</td>\n",
       "      <td>7.000</td>\n",
       "      <td>-6.000</td>\n",
       "      <td>18.000</td>\n",
       "      <td>0.500</td>\n",
       "      <td>4.500</td>\n",
       "      <td>-286.75</td>\n",
       "      <td>727.25</td>\n",
       "    </tr>\n",
       "    <tr>\n",
       "      <th>1</th>\n",
       "      <td>Healthy</td>\n",
       "      <td>No</td>\n",
       "      <td>No</td>\n",
       "      <td>Yes</td>\n",
       "      <td>21.5</td>\n",
       "      <td>25.5</td>\n",
       "      <td>3.125</td>\n",
       "      <td>6.125</td>\n",
       "      <td>-0.125</td>\n",
       "      <td>2.875</td>\n",
       "      <td>5.375</td>\n",
       "      <td>12.375</td>\n",
       "      <td>0.625</td>\n",
       "      <td>7.625</td>\n",
       "      <td>-93.25</td>\n",
       "      <td>408.75</td>\n",
       "    </tr>\n",
       "  </tbody>\n",
       "</table>\n",
       "</div>"
      ],
      "text/plain": [
       "  dietary_habits suicidal_thoughts family_history depression  age_lower_bound  \\\n",
       "0        Healthy                No             No         No             13.5   \n",
       "1        Healthy                No             No        Yes             21.5   \n",
       "\n",
       "   age_upper_bound  academic_pressure_lower_bound  \\\n",
       "0             41.5                         -1.000   \n",
       "1             25.5                          3.125   \n",
       "\n",
       "   academic_pressure_upper_bound  study_satisfaction_lower_bound  \\\n",
       "0                          7.000                          -1.000   \n",
       "1                          6.125                          -0.125   \n",
       "\n",
       "   study_satisfaction_upper_bound  study_hours_lower_bound  \\\n",
       "0                           7.000                   -6.000   \n",
       "1                           2.875                    5.375   \n",
       "\n",
       "   study_hours_upper_bound  financial_stress_lower_bound  \\\n",
       "0                   18.000                         0.500   \n",
       "1                   12.375                         0.625   \n",
       "\n",
       "   financial_stress_upper_bound  individual_lower_bound  \\\n",
       "0                         4.500                 -286.75   \n",
       "1                         7.625                  -93.25   \n",
       "\n",
       "   individual_upper_bound  \n",
       "0                  727.25  \n",
       "1                  408.75  "
      ]
     },
     "execution_count": 60,
     "metadata": {},
     "output_type": "execute_result"
    }
   ],
   "source": [
    "df_results.head(2)"
   ]
  },
  {
   "cell_type": "code",
   "execution_count": 61,
   "id": "8d2f9de4-0dd7-43b9-8b18-21d6963c6f7d",
   "metadata": {},
   "outputs": [
    {
     "data": {
      "application/vnd.microsoft.datawrangler.viewer.v0+json": {
       "columns": [
        {
         "name": "index",
         "rawType": "int64",
         "type": "integer"
        },
        {
         "name": "gender",
         "rawType": "object",
         "type": "string"
        },
        {
         "name": "age",
         "rawType": "int64",
         "type": "integer"
        },
        {
         "name": "academic_pressure",
         "rawType": "float64",
         "type": "float"
        },
        {
         "name": "study_satisfaction",
         "rawType": "float64",
         "type": "float"
        },
        {
         "name": "sleep_duration",
         "rawType": "object",
         "type": "string"
        },
        {
         "name": "dietary_habits",
         "rawType": "object",
         "type": "string"
        },
        {
         "name": "suicidal_thoughts",
         "rawType": "object",
         "type": "string"
        },
        {
         "name": "study_hours",
         "rawType": "int64",
         "type": "integer"
        },
        {
         "name": "financial_stress",
         "rawType": "int64",
         "type": "integer"
        },
        {
         "name": "family_history",
         "rawType": "object",
         "type": "string"
        },
        {
         "name": "depression",
         "rawType": "object",
         "type": "string"
        },
        {
         "name": "individual",
         "rawType": "int64",
         "type": "integer"
        },
        {
         "name": "age_lower_bound",
         "rawType": "float64",
         "type": "float"
        },
        {
         "name": "age_upper_bound",
         "rawType": "float64",
         "type": "float"
        },
        {
         "name": "academic_pressure_lower_bound",
         "rawType": "float64",
         "type": "float"
        },
        {
         "name": "academic_pressure_upper_bound",
         "rawType": "float64",
         "type": "float"
        },
        {
         "name": "study_satisfaction_lower_bound",
         "rawType": "float64",
         "type": "float"
        },
        {
         "name": "study_satisfaction_upper_bound",
         "rawType": "float64",
         "type": "float"
        },
        {
         "name": "study_hours_lower_bound",
         "rawType": "float64",
         "type": "float"
        },
        {
         "name": "study_hours_upper_bound",
         "rawType": "float64",
         "type": "float"
        },
        {
         "name": "financial_stress_lower_bound",
         "rawType": "float64",
         "type": "float"
        },
        {
         "name": "financial_stress_upper_bound",
         "rawType": "float64",
         "type": "float"
        },
        {
         "name": "individual_lower_bound",
         "rawType": "float64",
         "type": "float"
        },
        {
         "name": "individual_upper_bound",
         "rawType": "float64",
         "type": "float"
        }
       ],
       "conversionMethod": "pd.DataFrame",
       "ref": "3729da67-e8e5-4f75-ab7a-0023b5ee6f04",
       "rows": [
        [
         "0",
         "Male",
         "28",
         "2.0",
         "4.0",
         "7-8 hours",
         "Moderate",
         "Yes",
         "9",
         "2",
         "Yes",
         "No",
         "1",
         "20.5",
         "40.5",
         "0.5",
         "4.5",
         "2.5",
         "6.5",
         "-4.5",
         "7.5",
         "-0.5",
         "3.5",
         "-199.0",
         "417.0"
        ],
        [
         "1",
         "Male",
         "28",
         "4.0",
         "5.0",
         "5-6 hours",
         "Healthy",
         "Yes",
         "7",
         "1",
         "Yes",
         "No",
         "2",
         "15.25",
         "41.25",
         "-2.0",
         "6.0",
         "1.25",
         "7.25",
         "-2.5",
         "13.5",
         "-2.75",
         "7.25",
         "-359.5",
         "824.5"
        ]
       ],
       "shape": {
        "columns": 24,
        "rows": 2
       }
      },
      "text/html": [
       "<div>\n",
       "<style scoped>\n",
       "    .dataframe tbody tr th:only-of-type {\n",
       "        vertical-align: middle;\n",
       "    }\n",
       "\n",
       "    .dataframe tbody tr th {\n",
       "        vertical-align: top;\n",
       "    }\n",
       "\n",
       "    .dataframe thead th {\n",
       "        text-align: right;\n",
       "    }\n",
       "</style>\n",
       "<table border=\"1\" class=\"dataframe\">\n",
       "  <thead>\n",
       "    <tr style=\"text-align: right;\">\n",
       "      <th></th>\n",
       "      <th>gender</th>\n",
       "      <th>age</th>\n",
       "      <th>academic_pressure</th>\n",
       "      <th>study_satisfaction</th>\n",
       "      <th>sleep_duration</th>\n",
       "      <th>dietary_habits</th>\n",
       "      <th>suicidal_thoughts</th>\n",
       "      <th>study_hours</th>\n",
       "      <th>financial_stress</th>\n",
       "      <th>family_history</th>\n",
       "      <th>...</th>\n",
       "      <th>academic_pressure_lower_bound</th>\n",
       "      <th>academic_pressure_upper_bound</th>\n",
       "      <th>study_satisfaction_lower_bound</th>\n",
       "      <th>study_satisfaction_upper_bound</th>\n",
       "      <th>study_hours_lower_bound</th>\n",
       "      <th>study_hours_upper_bound</th>\n",
       "      <th>financial_stress_lower_bound</th>\n",
       "      <th>financial_stress_upper_bound</th>\n",
       "      <th>individual_lower_bound</th>\n",
       "      <th>individual_upper_bound</th>\n",
       "    </tr>\n",
       "  </thead>\n",
       "  <tbody>\n",
       "    <tr>\n",
       "      <th>0</th>\n",
       "      <td>Male</td>\n",
       "      <td>28</td>\n",
       "      <td>2.0</td>\n",
       "      <td>4.0</td>\n",
       "      <td>7-8 hours</td>\n",
       "      <td>Moderate</td>\n",
       "      <td>Yes</td>\n",
       "      <td>9</td>\n",
       "      <td>2</td>\n",
       "      <td>Yes</td>\n",
       "      <td>...</td>\n",
       "      <td>0.5</td>\n",
       "      <td>4.5</td>\n",
       "      <td>2.50</td>\n",
       "      <td>6.50</td>\n",
       "      <td>-4.5</td>\n",
       "      <td>7.5</td>\n",
       "      <td>-0.50</td>\n",
       "      <td>3.50</td>\n",
       "      <td>-199.0</td>\n",
       "      <td>417.0</td>\n",
       "    </tr>\n",
       "    <tr>\n",
       "      <th>1</th>\n",
       "      <td>Male</td>\n",
       "      <td>28</td>\n",
       "      <td>4.0</td>\n",
       "      <td>5.0</td>\n",
       "      <td>5-6 hours</td>\n",
       "      <td>Healthy</td>\n",
       "      <td>Yes</td>\n",
       "      <td>7</td>\n",
       "      <td>1</td>\n",
       "      <td>Yes</td>\n",
       "      <td>...</td>\n",
       "      <td>-2.0</td>\n",
       "      <td>6.0</td>\n",
       "      <td>1.25</td>\n",
       "      <td>7.25</td>\n",
       "      <td>-2.5</td>\n",
       "      <td>13.5</td>\n",
       "      <td>-2.75</td>\n",
       "      <td>7.25</td>\n",
       "      <td>-359.5</td>\n",
       "      <td>824.5</td>\n",
       "    </tr>\n",
       "  </tbody>\n",
       "</table>\n",
       "<p>2 rows × 24 columns</p>\n",
       "</div>"
      ],
      "text/plain": [
       "  gender  age  academic_pressure  study_satisfaction sleep_duration  \\\n",
       "0   Male   28                2.0                 4.0      7-8 hours   \n",
       "1   Male   28                4.0                 5.0      5-6 hours   \n",
       "\n",
       "  dietary_habits suicidal_thoughts  study_hours  financial_stress  \\\n",
       "0       Moderate               Yes            9                 2   \n",
       "1        Healthy               Yes            7                 1   \n",
       "\n",
       "  family_history  ... academic_pressure_lower_bound  \\\n",
       "0            Yes  ...                           0.5   \n",
       "1            Yes  ...                          -2.0   \n",
       "\n",
       "   academic_pressure_upper_bound  study_satisfaction_lower_bound  \\\n",
       "0                            4.5                            2.50   \n",
       "1                            6.0                            1.25   \n",
       "\n",
       "   study_satisfaction_upper_bound  study_hours_lower_bound  \\\n",
       "0                            6.50                     -4.5   \n",
       "1                            7.25                     -2.5   \n",
       "\n",
       "   study_hours_upper_bound  financial_stress_lower_bound  \\\n",
       "0                      7.5                         -0.50   \n",
       "1                     13.5                         -2.75   \n",
       "\n",
       "   financial_stress_upper_bound  individual_lower_bound  \\\n",
       "0                          3.50                  -199.0   \n",
       "1                          7.25                  -359.5   \n",
       "\n",
       "   individual_upper_bound  \n",
       "0                   417.0  \n",
       "1                   824.5  \n",
       "\n",
       "[2 rows x 24 columns]"
      ]
     },
     "execution_count": 61,
     "metadata": {},
     "output_type": "execute_result"
    }
   ],
   "source": [
    "df_bound = df.merge(\n",
    "    df_results,\n",
    "    on = cat_cols,\n",
    "    how = 'inner'\n",
    ")\n",
    "df_bound.head(2)"
   ]
  },
  {
   "cell_type": "code",
   "execution_count": 62,
   "id": "0d8061fa-835a-4c6c-b9c0-64c6ec2a5a91",
   "metadata": {},
   "outputs": [
    {
     "name": "stdout",
     "output_type": "stream",
     "text": [
      "Row: 502\n",
      " age: processing...\n",
      "Row: 496\n",
      " academic_pressure: processing...\n",
      "Row: 487\n",
      " study_satisfaction: processing...\n",
      "Row: 480\n",
      " study_hours: processing...\n",
      "Row: 476\n",
      " financial_stress: processing...\n",
      "Row: 468\n",
      " individual: processing...\n",
      "Completed!\n"
     ]
    }
   ],
   "source": [
    "for c in num_cols:\n",
    "    print(f'Row: {df_bound.shape[0]}')\n",
    "    print(f' {c}: processing...')\n",
    "\n",
    "    df_bound = df_bound.loc[\n",
    "        (df_bound[c] > df_bound[f'{c}_lower_bound'])\n",
    "        &\n",
    "        (df_bound[c] < df_bound[f'{c}_upper_bound'])\n",
    "        , :\n",
    "    ]\n",
    "print('Completed!')"
   ]
  },
  {
   "cell_type": "code",
   "execution_count": 63,
   "id": "85d47dcb-f08a-46b6-bda5-53147e12a4e3",
   "metadata": {},
   "outputs": [
    {
     "data": {
      "application/vnd.microsoft.datawrangler.viewer.v0+json": {
       "columns": [
        {
         "name": "index",
         "rawType": "int64",
         "type": "integer"
        },
        {
         "name": "dietary_habits",
         "rawType": "object",
         "type": "string"
        },
        {
         "name": "suicidal_thoughts",
         "rawType": "object",
         "type": "string"
        },
        {
         "name": "family_history",
         "rawType": "object",
         "type": "string"
        },
        {
         "name": "depression",
         "rawType": "object",
         "type": "string"
        },
        {
         "name": "age",
         "rawType": "int64",
         "type": "integer"
        },
        {
         "name": "academic_pressure",
         "rawType": "float64",
         "type": "float"
        },
        {
         "name": "study_satisfaction",
         "rawType": "float64",
         "type": "float"
        },
        {
         "name": "study_hours",
         "rawType": "int64",
         "type": "integer"
        },
        {
         "name": "financial_stress",
         "rawType": "int64",
         "type": "integer"
        },
        {
         "name": "individual",
         "rawType": "int64",
         "type": "integer"
        }
       ],
       "conversionMethod": "pd.DataFrame",
       "ref": "f5f0b26b-b00e-4c4b-99bc-ad72dc98973c",
       "rows": [
        [
         "1",
         "Healthy",
         "Yes",
         "Yes",
         "No",
         "28",
         "4.0",
         "5.0",
         "7",
         "1",
         "2"
        ],
        [
         "2",
         "Unhealthy",
         "Yes",
         "No",
         "Yes",
         "25",
         "1.0",
         "3.0",
         "10",
         "4",
         "3"
        ]
       ],
       "shape": {
        "columns": 10,
        "rows": 2
       }
      },
      "text/html": [
       "<div>\n",
       "<style scoped>\n",
       "    .dataframe tbody tr th:only-of-type {\n",
       "        vertical-align: middle;\n",
       "    }\n",
       "\n",
       "    .dataframe tbody tr th {\n",
       "        vertical-align: top;\n",
       "    }\n",
       "\n",
       "    .dataframe thead th {\n",
       "        text-align: right;\n",
       "    }\n",
       "</style>\n",
       "<table border=\"1\" class=\"dataframe\">\n",
       "  <thead>\n",
       "    <tr style=\"text-align: right;\">\n",
       "      <th></th>\n",
       "      <th>dietary_habits</th>\n",
       "      <th>suicidal_thoughts</th>\n",
       "      <th>family_history</th>\n",
       "      <th>depression</th>\n",
       "      <th>age</th>\n",
       "      <th>academic_pressure</th>\n",
       "      <th>study_satisfaction</th>\n",
       "      <th>study_hours</th>\n",
       "      <th>financial_stress</th>\n",
       "      <th>individual</th>\n",
       "    </tr>\n",
       "  </thead>\n",
       "  <tbody>\n",
       "    <tr>\n",
       "      <th>1</th>\n",
       "      <td>Healthy</td>\n",
       "      <td>Yes</td>\n",
       "      <td>Yes</td>\n",
       "      <td>No</td>\n",
       "      <td>28</td>\n",
       "      <td>4.0</td>\n",
       "      <td>5.0</td>\n",
       "      <td>7</td>\n",
       "      <td>1</td>\n",
       "      <td>2</td>\n",
       "    </tr>\n",
       "    <tr>\n",
       "      <th>2</th>\n",
       "      <td>Unhealthy</td>\n",
       "      <td>Yes</td>\n",
       "      <td>No</td>\n",
       "      <td>Yes</td>\n",
       "      <td>25</td>\n",
       "      <td>1.0</td>\n",
       "      <td>3.0</td>\n",
       "      <td>10</td>\n",
       "      <td>4</td>\n",
       "      <td>3</td>\n",
       "    </tr>\n",
       "  </tbody>\n",
       "</table>\n",
       "</div>"
      ],
      "text/plain": [
       "  dietary_habits suicidal_thoughts family_history depression  age  \\\n",
       "1        Healthy               Yes            Yes         No   28   \n",
       "2      Unhealthy               Yes             No        Yes   25   \n",
       "\n",
       "   academic_pressure  study_satisfaction  study_hours  financial_stress  \\\n",
       "1                4.0                 5.0            7                 1   \n",
       "2                1.0                 3.0           10                 4   \n",
       "\n",
       "   individual  \n",
       "1           2  \n",
       "2           3  "
      ]
     },
     "execution_count": 63,
     "metadata": {},
     "output_type": "execute_result"
    }
   ],
   "source": [
    "df_clean = df_bound.loc[:, cat_cols + num_cols]\n",
    "df_clean.head(2)"
   ]
  },
  {
   "cell_type": "markdown",
   "id": "62956aaa-e97c-4346-aa01-9acebf50df93",
   "metadata": {},
   "source": [
    "## Resumen para la simulación"
   ]
  },
  {
   "cell_type": "code",
   "execution_count": 64,
   "id": "eae86229-74a3-48f2-86a6-37f5f408c98d",
   "metadata": {},
   "outputs": [],
   "source": [
    "sum_aggregations = {}\n",
    "cols_sums = []\n",
    "for c in num_cols:\n",
    "    sum_aggregations[c] = ['min', 'max','mean', 'std']\n",
    "    cols_sums.append(f'{c}_min')\n",
    "    cols_sums.append(f'{c}_max')\n",
    "    cols_sums.append(f'{c}_mean')\n",
    "    cols_sums.append(f'{c}_std')"
   ]
  },
  {
   "cell_type": "code",
   "execution_count": 65,
   "id": "67e2a23c-5444-4856-8228-be6b21f91722",
   "metadata": {},
   "outputs": [],
   "source": [
    "df_sums = df_clean.groupby(\n",
    "    cat_cols\n",
    "    , as_index = False\n",
    ").agg(sum_aggregations)"
   ]
  },
  {
   "cell_type": "code",
   "execution_count": 66,
   "id": "e3d35d01-d3f8-41f8-bfcd-6d28ba8cc348",
   "metadata": {},
   "outputs": [],
   "source": [
    "df_sums.columns = cat_cols + cols_sums"
   ]
  },
  {
   "cell_type": "code",
   "execution_count": 67,
   "id": "b9f134b0-6895-4268-9ded-b5254da457b2",
   "metadata": {},
   "outputs": [
    {
     "data": {
      "application/vnd.microsoft.datawrangler.viewer.v0+json": {
       "columns": [
        {
         "name": "index",
         "rawType": "int64",
         "type": "integer"
        },
        {
         "name": "dietary_habits",
         "rawType": "object",
         "type": "string"
        },
        {
         "name": "suicidal_thoughts",
         "rawType": "object",
         "type": "string"
        },
        {
         "name": "family_history",
         "rawType": "object",
         "type": "string"
        },
        {
         "name": "depression",
         "rawType": "object",
         "type": "string"
        },
        {
         "name": "age_min",
         "rawType": "int64",
         "type": "integer"
        },
        {
         "name": "age_max",
         "rawType": "int64",
         "type": "integer"
        },
        {
         "name": "age_mean",
         "rawType": "float64",
         "type": "float"
        },
        {
         "name": "age_std",
         "rawType": "float64",
         "type": "float"
        },
        {
         "name": "academic_pressure_min",
         "rawType": "float64",
         "type": "float"
        },
        {
         "name": "academic_pressure_max",
         "rawType": "float64",
         "type": "float"
        },
        {
         "name": "academic_pressure_mean",
         "rawType": "float64",
         "type": "float"
        },
        {
         "name": "academic_pressure_std",
         "rawType": "float64",
         "type": "float"
        },
        {
         "name": "study_satisfaction_min",
         "rawType": "float64",
         "type": "float"
        },
        {
         "name": "study_satisfaction_max",
         "rawType": "float64",
         "type": "float"
        },
        {
         "name": "study_satisfaction_mean",
         "rawType": "float64",
         "type": "float"
        },
        {
         "name": "study_satisfaction_std",
         "rawType": "float64",
         "type": "float"
        },
        {
         "name": "study_hours_min",
         "rawType": "int64",
         "type": "integer"
        },
        {
         "name": "study_hours_max",
         "rawType": "int64",
         "type": "integer"
        },
        {
         "name": "study_hours_mean",
         "rawType": "float64",
         "type": "float"
        },
        {
         "name": "study_hours_std",
         "rawType": "float64",
         "type": "float"
        },
        {
         "name": "financial_stress_min",
         "rawType": "int64",
         "type": "integer"
        },
        {
         "name": "financial_stress_max",
         "rawType": "int64",
         "type": "integer"
        },
        {
         "name": "financial_stress_mean",
         "rawType": "float64",
         "type": "float"
        },
        {
         "name": "financial_stress_std",
         "rawType": "float64",
         "type": "float"
        },
        {
         "name": "individual_min",
         "rawType": "int64",
         "type": "integer"
        },
        {
         "name": "individual_max",
         "rawType": "int64",
         "type": "integer"
        },
        {
         "name": "individual_mean",
         "rawType": "float64",
         "type": "float"
        },
        {
         "name": "individual_std",
         "rawType": "float64",
         "type": "float"
        }
       ],
       "conversionMethod": "pd.DataFrame",
       "ref": "d67e3f15-c85a-4da0-a742-2356b295d00b",
       "rows": [
        [
         "0",
         "Healthy",
         "No",
         "No",
         "No",
         "18",
         "34",
         "27.419354838709676",
         "4.75937106172925",
         "1.0",
         "5.0",
         "2.935483870967742",
         "1.2893275733489336",
         "1.0",
         "5.0",
         "3.225806451612903",
         "1.3591584999392048",
         "0",
         "12",
         "5.645161290322581",
         "3.6106175565663206",
         "1",
         "4",
         "2.2580645161290325",
         "0.964978132238718",
         "31",
         "490",
         "228.8709677419355",
         "140.045883418134"
        ],
        [
         "1",
         "Healthy",
         "No",
         "No",
         "Yes",
         "23",
         "24",
         "23.333333333333332",
         "0.5773502691896255",
         "4.0",
         "5.0",
         "4.666666666666667",
         "0.5773502691896257",
         "1.0",
         "1.0",
         "1.0",
         "0.0",
         "8",
         "12",
         "9.333333333333334",
         "2.309401076758503",
         "3",
         "5",
         "4.0",
         "1.0",
         "93",
         "216",
         "136.66666666666666",
         "68.8210239195359"
        ]
       ],
       "shape": {
        "columns": 28,
        "rows": 2
       }
      },
      "text/html": [
       "<div>\n",
       "<style scoped>\n",
       "    .dataframe tbody tr th:only-of-type {\n",
       "        vertical-align: middle;\n",
       "    }\n",
       "\n",
       "    .dataframe tbody tr th {\n",
       "        vertical-align: top;\n",
       "    }\n",
       "\n",
       "    .dataframe thead th {\n",
       "        text-align: right;\n",
       "    }\n",
       "</style>\n",
       "<table border=\"1\" class=\"dataframe\">\n",
       "  <thead>\n",
       "    <tr style=\"text-align: right;\">\n",
       "      <th></th>\n",
       "      <th>dietary_habits</th>\n",
       "      <th>suicidal_thoughts</th>\n",
       "      <th>family_history</th>\n",
       "      <th>depression</th>\n",
       "      <th>age_min</th>\n",
       "      <th>age_max</th>\n",
       "      <th>age_mean</th>\n",
       "      <th>age_std</th>\n",
       "      <th>academic_pressure_min</th>\n",
       "      <th>academic_pressure_max</th>\n",
       "      <th>...</th>\n",
       "      <th>study_hours_mean</th>\n",
       "      <th>study_hours_std</th>\n",
       "      <th>financial_stress_min</th>\n",
       "      <th>financial_stress_max</th>\n",
       "      <th>financial_stress_mean</th>\n",
       "      <th>financial_stress_std</th>\n",
       "      <th>individual_min</th>\n",
       "      <th>individual_max</th>\n",
       "      <th>individual_mean</th>\n",
       "      <th>individual_std</th>\n",
       "    </tr>\n",
       "  </thead>\n",
       "  <tbody>\n",
       "    <tr>\n",
       "      <th>0</th>\n",
       "      <td>Healthy</td>\n",
       "      <td>No</td>\n",
       "      <td>No</td>\n",
       "      <td>No</td>\n",
       "      <td>18</td>\n",
       "      <td>34</td>\n",
       "      <td>27.419355</td>\n",
       "      <td>4.759371</td>\n",
       "      <td>1.0</td>\n",
       "      <td>5.0</td>\n",
       "      <td>...</td>\n",
       "      <td>5.645161</td>\n",
       "      <td>3.610618</td>\n",
       "      <td>1</td>\n",
       "      <td>4</td>\n",
       "      <td>2.258065</td>\n",
       "      <td>0.964978</td>\n",
       "      <td>31</td>\n",
       "      <td>490</td>\n",
       "      <td>228.870968</td>\n",
       "      <td>140.045883</td>\n",
       "    </tr>\n",
       "    <tr>\n",
       "      <th>1</th>\n",
       "      <td>Healthy</td>\n",
       "      <td>No</td>\n",
       "      <td>No</td>\n",
       "      <td>Yes</td>\n",
       "      <td>23</td>\n",
       "      <td>24</td>\n",
       "      <td>23.333333</td>\n",
       "      <td>0.577350</td>\n",
       "      <td>4.0</td>\n",
       "      <td>5.0</td>\n",
       "      <td>...</td>\n",
       "      <td>9.333333</td>\n",
       "      <td>2.309401</td>\n",
       "      <td>3</td>\n",
       "      <td>5</td>\n",
       "      <td>4.000000</td>\n",
       "      <td>1.000000</td>\n",
       "      <td>93</td>\n",
       "      <td>216</td>\n",
       "      <td>136.666667</td>\n",
       "      <td>68.821024</td>\n",
       "    </tr>\n",
       "  </tbody>\n",
       "</table>\n",
       "<p>2 rows × 28 columns</p>\n",
       "</div>"
      ],
      "text/plain": [
       "  dietary_habits suicidal_thoughts family_history depression  age_min  \\\n",
       "0        Healthy                No             No         No       18   \n",
       "1        Healthy                No             No        Yes       23   \n",
       "\n",
       "   age_max   age_mean   age_std  academic_pressure_min  academic_pressure_max  \\\n",
       "0       34  27.419355  4.759371                    1.0                    5.0   \n",
       "1       24  23.333333  0.577350                    4.0                    5.0   \n",
       "\n",
       "   ...  study_hours_mean  study_hours_std  financial_stress_min  \\\n",
       "0  ...          5.645161         3.610618                     1   \n",
       "1  ...          9.333333         2.309401                     3   \n",
       "\n",
       "   financial_stress_max  financial_stress_mean  financial_stress_std  \\\n",
       "0                     4               2.258065              0.964978   \n",
       "1                     5               4.000000              1.000000   \n",
       "\n",
       "   individual_min  individual_max  individual_mean  individual_std  \n",
       "0              31             490       228.870968      140.045883  \n",
       "1              93             216       136.666667       68.821024  \n",
       "\n",
       "[2 rows x 28 columns]"
      ]
     },
     "execution_count": 67,
     "metadata": {},
     "output_type": "execute_result"
    }
   ],
   "source": [
    "df_sums.head(2)"
   ]
  },
  {
   "cell_type": "markdown",
   "id": "1c9e9ec5-e30c-4022-b0e7-46df61dc5f53",
   "metadata": {},
   "source": [
    "## Expansión de DF final"
   ]
  },
  {
   "cell_type": "code",
   "execution_count": 68,
   "id": "51b9aed5-28a7-4d25-9f6c-ab9875ef68e4",
   "metadata": {},
   "outputs": [],
   "source": [
    "ids = np.random.choice(prob_freq.index , size = 100000, p = prob_freq['individuals'].to_list())"
   ]
  },
  {
   "cell_type": "code",
   "execution_count": 69,
   "id": "4281cce7",
   "metadata": {},
   "outputs": [
    {
     "data": {
      "application/vnd.microsoft.datawrangler.viewer.v0+json": {
       "columns": [
        {
         "name": "index",
         "rawType": "int64",
         "type": "integer"
        },
        {
         "name": "dietary_habits",
         "rawType": "object",
         "type": "string"
        },
        {
         "name": "suicidal_thoughts",
         "rawType": "object",
         "type": "string"
        },
        {
         "name": "family_history",
         "rawType": "object",
         "type": "string"
        },
        {
         "name": "depression",
         "rawType": "object",
         "type": "string"
        },
        {
         "name": "age_min",
         "rawType": "int64",
         "type": "integer"
        },
        {
         "name": "age_max",
         "rawType": "int64",
         "type": "integer"
        },
        {
         "name": "age_mean",
         "rawType": "float64",
         "type": "float"
        },
        {
         "name": "age_std",
         "rawType": "float64",
         "type": "float"
        },
        {
         "name": "academic_pressure_min",
         "rawType": "float64",
         "type": "float"
        },
        {
         "name": "academic_pressure_max",
         "rawType": "float64",
         "type": "float"
        },
        {
         "name": "academic_pressure_mean",
         "rawType": "float64",
         "type": "float"
        },
        {
         "name": "academic_pressure_std",
         "rawType": "float64",
         "type": "float"
        },
        {
         "name": "study_satisfaction_min",
         "rawType": "float64",
         "type": "float"
        },
        {
         "name": "study_satisfaction_max",
         "rawType": "float64",
         "type": "float"
        },
        {
         "name": "study_satisfaction_mean",
         "rawType": "float64",
         "type": "float"
        },
        {
         "name": "study_satisfaction_std",
         "rawType": "float64",
         "type": "float"
        },
        {
         "name": "study_hours_min",
         "rawType": "int64",
         "type": "integer"
        },
        {
         "name": "study_hours_max",
         "rawType": "int64",
         "type": "integer"
        },
        {
         "name": "study_hours_mean",
         "rawType": "float64",
         "type": "float"
        },
        {
         "name": "study_hours_std",
         "rawType": "float64",
         "type": "float"
        },
        {
         "name": "financial_stress_min",
         "rawType": "int64",
         "type": "integer"
        },
        {
         "name": "financial_stress_max",
         "rawType": "int64",
         "type": "integer"
        },
        {
         "name": "financial_stress_mean",
         "rawType": "float64",
         "type": "float"
        },
        {
         "name": "financial_stress_std",
         "rawType": "float64",
         "type": "float"
        },
        {
         "name": "individual_min",
         "rawType": "int64",
         "type": "integer"
        },
        {
         "name": "individual_max",
         "rawType": "int64",
         "type": "integer"
        },
        {
         "name": "individual_mean",
         "rawType": "float64",
         "type": "float"
        },
        {
         "name": "individual_std",
         "rawType": "float64",
         "type": "float"
        }
       ],
       "conversionMethod": "pd.DataFrame",
       "ref": "a86a4a55-f0f0-469e-8591-7400fd4d484c",
       "rows": [
        [
         "0",
         "Healthy",
         "No",
         "No",
         "No",
         "18",
         "34",
         "27.419354838709676",
         "4.75937106172925",
         "1.0",
         "5.0",
         "2.935483870967742",
         "1.2893275733489336",
         "1.0",
         "5.0",
         "3.225806451612903",
         "1.3591584999392048",
         "0",
         "12",
         "5.645161290322581",
         "3.6106175565663206",
         "1",
         "4",
         "2.2580645161290325",
         "0.964978132238718",
         "31",
         "490",
         "228.8709677419355",
         "140.045883418134"
        ],
        [
         "2",
         "Healthy",
         "No",
         "Yes",
         "No",
         "18",
         "34",
         "26.970588235294116",
         "4.379603511303396",
         "1.0",
         "5.0",
         "2.4705882352941178",
         "1.3311033044546634",
         "1.0",
         "5.0",
         "3.3529411764705883",
         "1.4746823580151076",
         "1",
         "12",
         "6.617647058823529",
         "3.593046364116118",
         "1",
         "5",
         "2.676470588235294",
         "1.4713545240601842",
         "26",
         "501",
         "267.1470588235294",
         "151.55859599966732"
        ],
        [
         "3",
         "Healthy",
         "No",
         "Yes",
         "Yes",
         "18",
         "29",
         "22.25",
         "3.693623849670827",
         "2.0",
         "5.0",
         "4.0",
         "1.0690449676496976",
         "1.0",
         "4.0",
         "2.25",
         "1.164964745021435",
         "3",
         "12",
         "8.375",
         "3.2923070504261465",
         "1",
         "5",
         "2.625",
         "1.5059406173077154",
         "130",
         "469",
         "259.625",
         "126.60956576363866"
        ],
        [
         "4",
         "Healthy",
         "Yes",
         "No",
         "No",
         "20",
         "34",
         "28.11764705882353",
         "4.728667266540019",
         "1.0",
         "5.0",
         "2.1176470588235294",
         "1.1663164740528442",
         "2.0",
         "5.0",
         "3.588235294117647",
         "1.0641207361838554",
         "0",
         "12",
         "4.764705882352941",
         "4.380773501402262",
         "1",
         "5",
         "2.588235294117647",
         "1.2277430273377532",
         "18",
         "464",
         "228.2941176470588",
         "147.20086816399996"
        ],
        [
         "5",
         "Healthy",
         "Yes",
         "No",
         "Yes",
         "18",
         "34",
         "25.142857142857142",
         "5.5703295619354005",
         "1.0",
         "5.0",
         "3.761904761904762",
         "1.2208506012105622",
         "1.0",
         "5.0",
         "2.9047619047619047",
         "1.445847914020071",
         "3",
         "12",
         "7.857142857142857",
         "2.6131535409484514",
         "1",
         "5",
         "3.0",
         "1.3416407864998738",
         "11",
         "480",
         "232.76190476190476",
         "115.23146478367129"
        ],
        [
         "6",
         "Healthy",
         "Yes",
         "Yes",
         "No",
         "21",
         "34",
         "28.0",
         "4.732863826479693",
         "1.0",
         "4.0",
         "2.1818181818181817",
         "1.1677484162422844",
         "2.0",
         "5.0",
         "4.0",
         "1.1832159566199232",
         "0",
         "11",
         "5.363636363636363",
         "3.35477949417625",
         "1",
         "4",
         "2.3636363636363638",
         "1.2862913567871996",
         "2",
         "484",
         "210.1818181818182",
         "181.91746380258175"
        ],
        [
         "7",
         "Healthy",
         "Yes",
         "Yes",
         "Yes",
         "18",
         "33",
         "25.608695652173914",
         "4.802831839226658",
         "2.0",
         "5.0",
         "3.4782608695652173",
         "1.0387739809021066",
         "1.0",
         "4.0",
         "2.4782608695652173",
         "1.0387739809021062",
         "0",
         "12",
         "7.086956521739131",
         "3.436608310506436",
         "1",
         "5",
         "3.5652173913043477",
         "1.2730095677895725",
         "69",
         "476",
         "291.4347826086956",
         "114.34311446732136"
        ],
        [
         "8",
         "Moderate",
         "No",
         "No",
         "No",
         "18",
         "34",
         "27.34285714285714",
         "5.30229061013122",
         "1.0",
         "4.0",
         "2.4857142857142858",
         "1.0674716850199484",
         "1.0",
         "5.0",
         "3.2857142857142856",
         "1.3841843759249062",
         "0",
         "12",
         "6.542857142857143",
         "4.024504771454767",
         "1",
         "5",
         "2.4857142857142858",
         "1.3144318515757956",
         "9",
         "496",
         "274.65714285714284",
         "133.76492612858152"
        ],
        [
         "9",
         "Moderate",
         "No",
         "No",
         "Yes",
         "19",
         "25",
         "21.857142857142858",
         "1.9518001458970664",
         "4.0",
         "5.0",
         "4.857142857142857",
         "0.37796447300922725",
         "1.0",
         "3.0",
         "1.5714285714285714",
         "0.7867957924694431",
         "2",
         "12",
         "8.0",
         "3.696845502136473",
         "2",
         "5",
         "3.142857142857143",
         "1.0690449676496976",
         "17",
         "494",
         "208.85714285714286",
         "168.9698479723809"
        ],
        [
         "10",
         "Moderate",
         "No",
         "Yes",
         "No",
         "18",
         "34",
         "26.516129032258064",
         "5.3595458000464635",
         "1.0",
         "5.0",
         "2.3225806451612905",
         "1.1368698774616075",
         "1.0",
         "5.0",
         "3.129032258064516",
         "1.3842431261371912",
         "0",
         "12",
         "5.064516129032258",
         "3.776554725063288",
         "1",
         "5",
         "2.6774193548387095",
         "1.3756718788575895",
         "24",
         "483",
         "274.83870967741933",
         "131.13684881939008"
        ],
        [
         "12",
         "Moderate",
         "Yes",
         "No",
         "No",
         "23",
         "34",
         "31.153846153846153",
         "3.1317235362803517",
         "1.0",
         "4.0",
         "2.076923076923077",
         "1.1151635501529558",
         "1.0",
         "5.0",
         "4.0",
         "1.35400640077266",
         "0",
         "12",
         "6.153846153846154",
         "3.625055260409921",
         "1",
         "5",
         "2.6153846153846154",
         "1.7577666482623884",
         "120",
         "486",
         "284.61538461538464",
         "124.62646753501606"
        ],
        [
         "13",
         "Moderate",
         "Yes",
         "No",
         "Yes",
         "18",
         "34",
         "26.303030303030305",
         "5.10811149352704",
         "1.0",
         "5.0",
         "3.6666666666666665",
         "1.3616778865306827",
         "1.0",
         "5.0",
         "2.8181818181818183",
         "1.3335700547436908",
         "2",
         "12",
         "7.666666666666667",
         "3.037954355593031",
         "1",
         "5",
         "3.484848484848485",
         "1.3491018336566585",
         "7",
         "481",
         "229.87878787878788",
         "131.6042261801833"
        ],
        [
         "14",
         "Moderate",
         "Yes",
         "Yes",
         "No",
         "24",
         "34",
         "30.857142857142858",
         "3.7606990231680526",
         "1.0",
         "4.0",
         "2.142857142857143",
         "1.0690449676496976",
         "3.0",
         "5.0",
         "4.285714285714286",
         "0.9511897312113419",
         "0",
         "3",
         "1.4285714285714286",
         "1.5118578920369088",
         "1",
         "3",
         "1.8571428571428572",
         "0.6900655593423543",
         "27",
         "387",
         "167.57142857142858",
         "140.14856063341875"
        ],
        [
         "15",
         "Moderate",
         "Yes",
         "Yes",
         "Yes",
         "18",
         "33",
         "27.11111111111111",
         "5.228129047119375",
         "2.0",
         "5.0",
         "3.4814814814814814",
         "1.014144974098885",
         "1.0",
         "5.0",
         "2.962962962962963",
         "1.5561659364130875",
         "2",
         "12",
         "7.592592592592593",
         "3.0916669546386397",
         "1",
         "5",
         "3.1481481481481484",
         "1.485926380402881",
         "25",
         "477",
         "262.25925925925924",
         "163.4047811635954"
        ],
        [
         "16",
         "Unhealthy",
         "No",
         "No",
         "No",
         "19",
         "34",
         "25.8",
         "4.406434688800761",
         "1.0",
         "5.0",
         "2.2",
         "1.2247448713915892",
         "2.0",
         "5.0",
         "3.8",
         "1.0",
         "0",
         "12",
         "6.36",
         "3.7956115010188634",
         "1",
         "5",
         "2.92",
         "1.656301099840646",
         "23",
         "487",
         "248.76",
         "138.99588722932296"
        ],
        [
         "17",
         "Unhealthy",
         "No",
         "No",
         "Yes",
         "18",
         "30",
         "23.4",
         "3.7186787208054732",
         "3.0",
         "5.0",
         "4.533333333333333",
         "0.6399404734221844",
         "1.0",
         "5.0",
         "2.4",
         "1.3522468075656264",
         "0",
         "12",
         "7.266666666666667",
         "3.76955220278534",
         "1",
         "5",
         "3.533333333333333",
         "1.3557637102737474",
         "95",
         "498",
         "328.6666666666667",
         "123.03406419516894"
        ],
        [
         "18",
         "Unhealthy",
         "No",
         "Yes",
         "No",
         "20",
         "33",
         "26.9375",
         "3.957587649060979",
         "1.0",
         "5.0",
         "2.4375",
         "1.459166428707386",
         "3.0",
         "5.0",
         "3.625",
         "0.8062257748298549",
         "0",
         "12",
         "6.25",
         "4.024922359499621",
         "1",
         "3",
         "1.875",
         "0.7187952884282608",
         "21",
         "493",
         "200.875",
         "167.15935510763376"
        ],
        [
         "19",
         "Unhealthy",
         "No",
         "Yes",
         "Yes",
         "18",
         "31",
         "24.846153846153847",
         "4.278748918514886",
         "3.0",
         "5.0",
         "4.461538461538462",
         "0.6602252917735248",
         "1.0",
         "4.0",
         "2.076923076923077",
         "0.8623164985025763",
         "1",
         "11",
         "6.230769230769231",
         "3.2443244328582534",
         "1",
         "5",
         "3.3846153846153846",
         "1.6092680291808414",
         "28",
         "502",
         "250.15384615384616",
         "148.0573347017106"
        ],
        [
         "20",
         "Unhealthy",
         "Yes",
         "No",
         "No",
         "20",
         "34",
         "28.181818181818183",
         "4.51260859854213",
         "1.0",
         "4.0",
         "1.9090909090909092",
         "1.044465935734187",
         "1.0",
         "5.0",
         "3.6363636363636362",
         "1.2862913567871994",
         "0",
         "8",
         "2.272727272727273",
         "2.327698824629556",
         "1",
         "3",
         "1.7272727272727273",
         "0.7862453931068965",
         "48",
         "482",
         "219.54545454545453",
         "163.93557492891142"
        ],
        [
         "21",
         "Unhealthy",
         "Yes",
         "No",
         "Yes",
         "19",
         "34",
         "25.82051282051282",
         "4.147743805668677",
         "1.0",
         "5.0",
         "3.1794871794871793",
         "1.3351876444470046",
         "1.0",
         "5.0",
         "2.41025641025641",
         "1.3321519732718328",
         "0",
         "12",
         "6.230769230769231",
         "3.923354757169849",
         "1",
         "5",
         "3.3076923076923075",
         "1.5244299392481484",
         "3",
         "499",
         "226.5897435897436",
         "165.13116285144173"
        ],
        [
         "22",
         "Unhealthy",
         "Yes",
         "Yes",
         "No",
         "24",
         "34",
         "30.666666666666668",
         "3.881580434135903",
         "1.0",
         "3.0",
         "1.8333333333333333",
         "0.983192080250175",
         "2.0",
         "5.0",
         "3.6666666666666665",
         "1.2110601416389968",
         "0",
         "11",
         "5.166666666666667",
         "4.535048695071164",
         "1",
         "5",
         "2.5",
         "1.6431676725154984",
         "211",
         "409",
         "323.5",
         "68.07275519618698"
        ],
        [
         "23",
         "Unhealthy",
         "Yes",
         "Yes",
         "Yes",
         "18",
         "34",
         "24.756756756756758",
         "4.850002321908982",
         "1.0",
         "5.0",
         "3.1621621621621623",
         "1.2136609794225788",
         "1.0",
         "5.0",
         "3.108108108108108",
         "1.1734039700277465",
         "0",
         "12",
         "6.621621621621622",
         "4.091667354727377",
         "1",
         "5",
         "3.189189189189189",
         "1.3299506640356134",
         "6",
         "497",
         "284.5405405405405",
         "162.2860291437783"
        ]
       ],
       "shape": {
        "columns": 28,
        "rows": 22
       }
      },
      "text/html": [
       "<div>\n",
       "<style scoped>\n",
       "    .dataframe tbody tr th:only-of-type {\n",
       "        vertical-align: middle;\n",
       "    }\n",
       "\n",
       "    .dataframe tbody tr th {\n",
       "        vertical-align: top;\n",
       "    }\n",
       "\n",
       "    .dataframe thead th {\n",
       "        text-align: right;\n",
       "    }\n",
       "</style>\n",
       "<table border=\"1\" class=\"dataframe\">\n",
       "  <thead>\n",
       "    <tr style=\"text-align: right;\">\n",
       "      <th></th>\n",
       "      <th>dietary_habits</th>\n",
       "      <th>suicidal_thoughts</th>\n",
       "      <th>family_history</th>\n",
       "      <th>depression</th>\n",
       "      <th>age_min</th>\n",
       "      <th>age_max</th>\n",
       "      <th>age_mean</th>\n",
       "      <th>age_std</th>\n",
       "      <th>academic_pressure_min</th>\n",
       "      <th>academic_pressure_max</th>\n",
       "      <th>...</th>\n",
       "      <th>study_hours_mean</th>\n",
       "      <th>study_hours_std</th>\n",
       "      <th>financial_stress_min</th>\n",
       "      <th>financial_stress_max</th>\n",
       "      <th>financial_stress_mean</th>\n",
       "      <th>financial_stress_std</th>\n",
       "      <th>individual_min</th>\n",
       "      <th>individual_max</th>\n",
       "      <th>individual_mean</th>\n",
       "      <th>individual_std</th>\n",
       "    </tr>\n",
       "  </thead>\n",
       "  <tbody>\n",
       "    <tr>\n",
       "      <th>0</th>\n",
       "      <td>Healthy</td>\n",
       "      <td>No</td>\n",
       "      <td>No</td>\n",
       "      <td>No</td>\n",
       "      <td>18</td>\n",
       "      <td>34</td>\n",
       "      <td>27.419355</td>\n",
       "      <td>4.759371</td>\n",
       "      <td>1.0</td>\n",
       "      <td>5.0</td>\n",
       "      <td>...</td>\n",
       "      <td>5.645161</td>\n",
       "      <td>3.610618</td>\n",
       "      <td>1</td>\n",
       "      <td>4</td>\n",
       "      <td>2.258065</td>\n",
       "      <td>0.964978</td>\n",
       "      <td>31</td>\n",
       "      <td>490</td>\n",
       "      <td>228.870968</td>\n",
       "      <td>140.045883</td>\n",
       "    </tr>\n",
       "    <tr>\n",
       "      <th>2</th>\n",
       "      <td>Healthy</td>\n",
       "      <td>No</td>\n",
       "      <td>Yes</td>\n",
       "      <td>No</td>\n",
       "      <td>18</td>\n",
       "      <td>34</td>\n",
       "      <td>26.970588</td>\n",
       "      <td>4.379604</td>\n",
       "      <td>1.0</td>\n",
       "      <td>5.0</td>\n",
       "      <td>...</td>\n",
       "      <td>6.617647</td>\n",
       "      <td>3.593046</td>\n",
       "      <td>1</td>\n",
       "      <td>5</td>\n",
       "      <td>2.676471</td>\n",
       "      <td>1.471355</td>\n",
       "      <td>26</td>\n",
       "      <td>501</td>\n",
       "      <td>267.147059</td>\n",
       "      <td>151.558596</td>\n",
       "    </tr>\n",
       "    <tr>\n",
       "      <th>3</th>\n",
       "      <td>Healthy</td>\n",
       "      <td>No</td>\n",
       "      <td>Yes</td>\n",
       "      <td>Yes</td>\n",
       "      <td>18</td>\n",
       "      <td>29</td>\n",
       "      <td>22.250000</td>\n",
       "      <td>3.693624</td>\n",
       "      <td>2.0</td>\n",
       "      <td>5.0</td>\n",
       "      <td>...</td>\n",
       "      <td>8.375000</td>\n",
       "      <td>3.292307</td>\n",
       "      <td>1</td>\n",
       "      <td>5</td>\n",
       "      <td>2.625000</td>\n",
       "      <td>1.505941</td>\n",
       "      <td>130</td>\n",
       "      <td>469</td>\n",
       "      <td>259.625000</td>\n",
       "      <td>126.609566</td>\n",
       "    </tr>\n",
       "    <tr>\n",
       "      <th>4</th>\n",
       "      <td>Healthy</td>\n",
       "      <td>Yes</td>\n",
       "      <td>No</td>\n",
       "      <td>No</td>\n",
       "      <td>20</td>\n",
       "      <td>34</td>\n",
       "      <td>28.117647</td>\n",
       "      <td>4.728667</td>\n",
       "      <td>1.0</td>\n",
       "      <td>5.0</td>\n",
       "      <td>...</td>\n",
       "      <td>4.764706</td>\n",
       "      <td>4.380774</td>\n",
       "      <td>1</td>\n",
       "      <td>5</td>\n",
       "      <td>2.588235</td>\n",
       "      <td>1.227743</td>\n",
       "      <td>18</td>\n",
       "      <td>464</td>\n",
       "      <td>228.294118</td>\n",
       "      <td>147.200868</td>\n",
       "    </tr>\n",
       "    <tr>\n",
       "      <th>5</th>\n",
       "      <td>Healthy</td>\n",
       "      <td>Yes</td>\n",
       "      <td>No</td>\n",
       "      <td>Yes</td>\n",
       "      <td>18</td>\n",
       "      <td>34</td>\n",
       "      <td>25.142857</td>\n",
       "      <td>5.570330</td>\n",
       "      <td>1.0</td>\n",
       "      <td>5.0</td>\n",
       "      <td>...</td>\n",
       "      <td>7.857143</td>\n",
       "      <td>2.613154</td>\n",
       "      <td>1</td>\n",
       "      <td>5</td>\n",
       "      <td>3.000000</td>\n",
       "      <td>1.341641</td>\n",
       "      <td>11</td>\n",
       "      <td>480</td>\n",
       "      <td>232.761905</td>\n",
       "      <td>115.231465</td>\n",
       "    </tr>\n",
       "    <tr>\n",
       "      <th>6</th>\n",
       "      <td>Healthy</td>\n",
       "      <td>Yes</td>\n",
       "      <td>Yes</td>\n",
       "      <td>No</td>\n",
       "      <td>21</td>\n",
       "      <td>34</td>\n",
       "      <td>28.000000</td>\n",
       "      <td>4.732864</td>\n",
       "      <td>1.0</td>\n",
       "      <td>4.0</td>\n",
       "      <td>...</td>\n",
       "      <td>5.363636</td>\n",
       "      <td>3.354779</td>\n",
       "      <td>1</td>\n",
       "      <td>4</td>\n",
       "      <td>2.363636</td>\n",
       "      <td>1.286291</td>\n",
       "      <td>2</td>\n",
       "      <td>484</td>\n",
       "      <td>210.181818</td>\n",
       "      <td>181.917464</td>\n",
       "    </tr>\n",
       "    <tr>\n",
       "      <th>7</th>\n",
       "      <td>Healthy</td>\n",
       "      <td>Yes</td>\n",
       "      <td>Yes</td>\n",
       "      <td>Yes</td>\n",
       "      <td>18</td>\n",
       "      <td>33</td>\n",
       "      <td>25.608696</td>\n",
       "      <td>4.802832</td>\n",
       "      <td>2.0</td>\n",
       "      <td>5.0</td>\n",
       "      <td>...</td>\n",
       "      <td>7.086957</td>\n",
       "      <td>3.436608</td>\n",
       "      <td>1</td>\n",
       "      <td>5</td>\n",
       "      <td>3.565217</td>\n",
       "      <td>1.273010</td>\n",
       "      <td>69</td>\n",
       "      <td>476</td>\n",
       "      <td>291.434783</td>\n",
       "      <td>114.343114</td>\n",
       "    </tr>\n",
       "    <tr>\n",
       "      <th>8</th>\n",
       "      <td>Moderate</td>\n",
       "      <td>No</td>\n",
       "      <td>No</td>\n",
       "      <td>No</td>\n",
       "      <td>18</td>\n",
       "      <td>34</td>\n",
       "      <td>27.342857</td>\n",
       "      <td>5.302291</td>\n",
       "      <td>1.0</td>\n",
       "      <td>4.0</td>\n",
       "      <td>...</td>\n",
       "      <td>6.542857</td>\n",
       "      <td>4.024505</td>\n",
       "      <td>1</td>\n",
       "      <td>5</td>\n",
       "      <td>2.485714</td>\n",
       "      <td>1.314432</td>\n",
       "      <td>9</td>\n",
       "      <td>496</td>\n",
       "      <td>274.657143</td>\n",
       "      <td>133.764926</td>\n",
       "    </tr>\n",
       "    <tr>\n",
       "      <th>9</th>\n",
       "      <td>Moderate</td>\n",
       "      <td>No</td>\n",
       "      <td>No</td>\n",
       "      <td>Yes</td>\n",
       "      <td>19</td>\n",
       "      <td>25</td>\n",
       "      <td>21.857143</td>\n",
       "      <td>1.951800</td>\n",
       "      <td>4.0</td>\n",
       "      <td>5.0</td>\n",
       "      <td>...</td>\n",
       "      <td>8.000000</td>\n",
       "      <td>3.696846</td>\n",
       "      <td>2</td>\n",
       "      <td>5</td>\n",
       "      <td>3.142857</td>\n",
       "      <td>1.069045</td>\n",
       "      <td>17</td>\n",
       "      <td>494</td>\n",
       "      <td>208.857143</td>\n",
       "      <td>168.969848</td>\n",
       "    </tr>\n",
       "    <tr>\n",
       "      <th>10</th>\n",
       "      <td>Moderate</td>\n",
       "      <td>No</td>\n",
       "      <td>Yes</td>\n",
       "      <td>No</td>\n",
       "      <td>18</td>\n",
       "      <td>34</td>\n",
       "      <td>26.516129</td>\n",
       "      <td>5.359546</td>\n",
       "      <td>1.0</td>\n",
       "      <td>5.0</td>\n",
       "      <td>...</td>\n",
       "      <td>5.064516</td>\n",
       "      <td>3.776555</td>\n",
       "      <td>1</td>\n",
       "      <td>5</td>\n",
       "      <td>2.677419</td>\n",
       "      <td>1.375672</td>\n",
       "      <td>24</td>\n",
       "      <td>483</td>\n",
       "      <td>274.838710</td>\n",
       "      <td>131.136849</td>\n",
       "    </tr>\n",
       "    <tr>\n",
       "      <th>12</th>\n",
       "      <td>Moderate</td>\n",
       "      <td>Yes</td>\n",
       "      <td>No</td>\n",
       "      <td>No</td>\n",
       "      <td>23</td>\n",
       "      <td>34</td>\n",
       "      <td>31.153846</td>\n",
       "      <td>3.131724</td>\n",
       "      <td>1.0</td>\n",
       "      <td>4.0</td>\n",
       "      <td>...</td>\n",
       "      <td>6.153846</td>\n",
       "      <td>3.625055</td>\n",
       "      <td>1</td>\n",
       "      <td>5</td>\n",
       "      <td>2.615385</td>\n",
       "      <td>1.757767</td>\n",
       "      <td>120</td>\n",
       "      <td>486</td>\n",
       "      <td>284.615385</td>\n",
       "      <td>124.626468</td>\n",
       "    </tr>\n",
       "    <tr>\n",
       "      <th>13</th>\n",
       "      <td>Moderate</td>\n",
       "      <td>Yes</td>\n",
       "      <td>No</td>\n",
       "      <td>Yes</td>\n",
       "      <td>18</td>\n",
       "      <td>34</td>\n",
       "      <td>26.303030</td>\n",
       "      <td>5.108111</td>\n",
       "      <td>1.0</td>\n",
       "      <td>5.0</td>\n",
       "      <td>...</td>\n",
       "      <td>7.666667</td>\n",
       "      <td>3.037954</td>\n",
       "      <td>1</td>\n",
       "      <td>5</td>\n",
       "      <td>3.484848</td>\n",
       "      <td>1.349102</td>\n",
       "      <td>7</td>\n",
       "      <td>481</td>\n",
       "      <td>229.878788</td>\n",
       "      <td>131.604226</td>\n",
       "    </tr>\n",
       "    <tr>\n",
       "      <th>14</th>\n",
       "      <td>Moderate</td>\n",
       "      <td>Yes</td>\n",
       "      <td>Yes</td>\n",
       "      <td>No</td>\n",
       "      <td>24</td>\n",
       "      <td>34</td>\n",
       "      <td>30.857143</td>\n",
       "      <td>3.760699</td>\n",
       "      <td>1.0</td>\n",
       "      <td>4.0</td>\n",
       "      <td>...</td>\n",
       "      <td>1.428571</td>\n",
       "      <td>1.511858</td>\n",
       "      <td>1</td>\n",
       "      <td>3</td>\n",
       "      <td>1.857143</td>\n",
       "      <td>0.690066</td>\n",
       "      <td>27</td>\n",
       "      <td>387</td>\n",
       "      <td>167.571429</td>\n",
       "      <td>140.148561</td>\n",
       "    </tr>\n",
       "    <tr>\n",
       "      <th>15</th>\n",
       "      <td>Moderate</td>\n",
       "      <td>Yes</td>\n",
       "      <td>Yes</td>\n",
       "      <td>Yes</td>\n",
       "      <td>18</td>\n",
       "      <td>33</td>\n",
       "      <td>27.111111</td>\n",
       "      <td>5.228129</td>\n",
       "      <td>2.0</td>\n",
       "      <td>5.0</td>\n",
       "      <td>...</td>\n",
       "      <td>7.592593</td>\n",
       "      <td>3.091667</td>\n",
       "      <td>1</td>\n",
       "      <td>5</td>\n",
       "      <td>3.148148</td>\n",
       "      <td>1.485926</td>\n",
       "      <td>25</td>\n",
       "      <td>477</td>\n",
       "      <td>262.259259</td>\n",
       "      <td>163.404781</td>\n",
       "    </tr>\n",
       "    <tr>\n",
       "      <th>16</th>\n",
       "      <td>Unhealthy</td>\n",
       "      <td>No</td>\n",
       "      <td>No</td>\n",
       "      <td>No</td>\n",
       "      <td>19</td>\n",
       "      <td>34</td>\n",
       "      <td>25.800000</td>\n",
       "      <td>4.406435</td>\n",
       "      <td>1.0</td>\n",
       "      <td>5.0</td>\n",
       "      <td>...</td>\n",
       "      <td>6.360000</td>\n",
       "      <td>3.795612</td>\n",
       "      <td>1</td>\n",
       "      <td>5</td>\n",
       "      <td>2.920000</td>\n",
       "      <td>1.656301</td>\n",
       "      <td>23</td>\n",
       "      <td>487</td>\n",
       "      <td>248.760000</td>\n",
       "      <td>138.995887</td>\n",
       "    </tr>\n",
       "    <tr>\n",
       "      <th>17</th>\n",
       "      <td>Unhealthy</td>\n",
       "      <td>No</td>\n",
       "      <td>No</td>\n",
       "      <td>Yes</td>\n",
       "      <td>18</td>\n",
       "      <td>30</td>\n",
       "      <td>23.400000</td>\n",
       "      <td>3.718679</td>\n",
       "      <td>3.0</td>\n",
       "      <td>5.0</td>\n",
       "      <td>...</td>\n",
       "      <td>7.266667</td>\n",
       "      <td>3.769552</td>\n",
       "      <td>1</td>\n",
       "      <td>5</td>\n",
       "      <td>3.533333</td>\n",
       "      <td>1.355764</td>\n",
       "      <td>95</td>\n",
       "      <td>498</td>\n",
       "      <td>328.666667</td>\n",
       "      <td>123.034064</td>\n",
       "    </tr>\n",
       "    <tr>\n",
       "      <th>18</th>\n",
       "      <td>Unhealthy</td>\n",
       "      <td>No</td>\n",
       "      <td>Yes</td>\n",
       "      <td>No</td>\n",
       "      <td>20</td>\n",
       "      <td>33</td>\n",
       "      <td>26.937500</td>\n",
       "      <td>3.957588</td>\n",
       "      <td>1.0</td>\n",
       "      <td>5.0</td>\n",
       "      <td>...</td>\n",
       "      <td>6.250000</td>\n",
       "      <td>4.024922</td>\n",
       "      <td>1</td>\n",
       "      <td>3</td>\n",
       "      <td>1.875000</td>\n",
       "      <td>0.718795</td>\n",
       "      <td>21</td>\n",
       "      <td>493</td>\n",
       "      <td>200.875000</td>\n",
       "      <td>167.159355</td>\n",
       "    </tr>\n",
       "    <tr>\n",
       "      <th>19</th>\n",
       "      <td>Unhealthy</td>\n",
       "      <td>No</td>\n",
       "      <td>Yes</td>\n",
       "      <td>Yes</td>\n",
       "      <td>18</td>\n",
       "      <td>31</td>\n",
       "      <td>24.846154</td>\n",
       "      <td>4.278749</td>\n",
       "      <td>3.0</td>\n",
       "      <td>5.0</td>\n",
       "      <td>...</td>\n",
       "      <td>6.230769</td>\n",
       "      <td>3.244324</td>\n",
       "      <td>1</td>\n",
       "      <td>5</td>\n",
       "      <td>3.384615</td>\n",
       "      <td>1.609268</td>\n",
       "      <td>28</td>\n",
       "      <td>502</td>\n",
       "      <td>250.153846</td>\n",
       "      <td>148.057335</td>\n",
       "    </tr>\n",
       "    <tr>\n",
       "      <th>20</th>\n",
       "      <td>Unhealthy</td>\n",
       "      <td>Yes</td>\n",
       "      <td>No</td>\n",
       "      <td>No</td>\n",
       "      <td>20</td>\n",
       "      <td>34</td>\n",
       "      <td>28.181818</td>\n",
       "      <td>4.512609</td>\n",
       "      <td>1.0</td>\n",
       "      <td>4.0</td>\n",
       "      <td>...</td>\n",
       "      <td>2.272727</td>\n",
       "      <td>2.327699</td>\n",
       "      <td>1</td>\n",
       "      <td>3</td>\n",
       "      <td>1.727273</td>\n",
       "      <td>0.786245</td>\n",
       "      <td>48</td>\n",
       "      <td>482</td>\n",
       "      <td>219.545455</td>\n",
       "      <td>163.935575</td>\n",
       "    </tr>\n",
       "    <tr>\n",
       "      <th>21</th>\n",
       "      <td>Unhealthy</td>\n",
       "      <td>Yes</td>\n",
       "      <td>No</td>\n",
       "      <td>Yes</td>\n",
       "      <td>19</td>\n",
       "      <td>34</td>\n",
       "      <td>25.820513</td>\n",
       "      <td>4.147744</td>\n",
       "      <td>1.0</td>\n",
       "      <td>5.0</td>\n",
       "      <td>...</td>\n",
       "      <td>6.230769</td>\n",
       "      <td>3.923355</td>\n",
       "      <td>1</td>\n",
       "      <td>5</td>\n",
       "      <td>3.307692</td>\n",
       "      <td>1.524430</td>\n",
       "      <td>3</td>\n",
       "      <td>499</td>\n",
       "      <td>226.589744</td>\n",
       "      <td>165.131163</td>\n",
       "    </tr>\n",
       "    <tr>\n",
       "      <th>22</th>\n",
       "      <td>Unhealthy</td>\n",
       "      <td>Yes</td>\n",
       "      <td>Yes</td>\n",
       "      <td>No</td>\n",
       "      <td>24</td>\n",
       "      <td>34</td>\n",
       "      <td>30.666667</td>\n",
       "      <td>3.881580</td>\n",
       "      <td>1.0</td>\n",
       "      <td>3.0</td>\n",
       "      <td>...</td>\n",
       "      <td>5.166667</td>\n",
       "      <td>4.535049</td>\n",
       "      <td>1</td>\n",
       "      <td>5</td>\n",
       "      <td>2.500000</td>\n",
       "      <td>1.643168</td>\n",
       "      <td>211</td>\n",
       "      <td>409</td>\n",
       "      <td>323.500000</td>\n",
       "      <td>68.072755</td>\n",
       "    </tr>\n",
       "    <tr>\n",
       "      <th>23</th>\n",
       "      <td>Unhealthy</td>\n",
       "      <td>Yes</td>\n",
       "      <td>Yes</td>\n",
       "      <td>Yes</td>\n",
       "      <td>18</td>\n",
       "      <td>34</td>\n",
       "      <td>24.756757</td>\n",
       "      <td>4.850002</td>\n",
       "      <td>1.0</td>\n",
       "      <td>5.0</td>\n",
       "      <td>...</td>\n",
       "      <td>6.621622</td>\n",
       "      <td>4.091667</td>\n",
       "      <td>1</td>\n",
       "      <td>5</td>\n",
       "      <td>3.189189</td>\n",
       "      <td>1.329951</td>\n",
       "      <td>6</td>\n",
       "      <td>497</td>\n",
       "      <td>284.540541</td>\n",
       "      <td>162.286029</td>\n",
       "    </tr>\n",
       "  </tbody>\n",
       "</table>\n",
       "<p>22 rows × 28 columns</p>\n",
       "</div>"
      ],
      "text/plain": [
       "   dietary_habits suicidal_thoughts family_history depression  age_min  \\\n",
       "0         Healthy                No             No         No       18   \n",
       "2         Healthy                No            Yes         No       18   \n",
       "3         Healthy                No            Yes        Yes       18   \n",
       "4         Healthy               Yes             No         No       20   \n",
       "5         Healthy               Yes             No        Yes       18   \n",
       "6         Healthy               Yes            Yes         No       21   \n",
       "7         Healthy               Yes            Yes        Yes       18   \n",
       "8        Moderate                No             No         No       18   \n",
       "9        Moderate                No             No        Yes       19   \n",
       "10       Moderate                No            Yes         No       18   \n",
       "12       Moderate               Yes             No         No       23   \n",
       "13       Moderate               Yes             No        Yes       18   \n",
       "14       Moderate               Yes            Yes         No       24   \n",
       "15       Moderate               Yes            Yes        Yes       18   \n",
       "16      Unhealthy                No             No         No       19   \n",
       "17      Unhealthy                No             No        Yes       18   \n",
       "18      Unhealthy                No            Yes         No       20   \n",
       "19      Unhealthy                No            Yes        Yes       18   \n",
       "20      Unhealthy               Yes             No         No       20   \n",
       "21      Unhealthy               Yes             No        Yes       19   \n",
       "22      Unhealthy               Yes            Yes         No       24   \n",
       "23      Unhealthy               Yes            Yes        Yes       18   \n",
       "\n",
       "    age_max   age_mean   age_std  academic_pressure_min  \\\n",
       "0        34  27.419355  4.759371                    1.0   \n",
       "2        34  26.970588  4.379604                    1.0   \n",
       "3        29  22.250000  3.693624                    2.0   \n",
       "4        34  28.117647  4.728667                    1.0   \n",
       "5        34  25.142857  5.570330                    1.0   \n",
       "6        34  28.000000  4.732864                    1.0   \n",
       "7        33  25.608696  4.802832                    2.0   \n",
       "8        34  27.342857  5.302291                    1.0   \n",
       "9        25  21.857143  1.951800                    4.0   \n",
       "10       34  26.516129  5.359546                    1.0   \n",
       "12       34  31.153846  3.131724                    1.0   \n",
       "13       34  26.303030  5.108111                    1.0   \n",
       "14       34  30.857143  3.760699                    1.0   \n",
       "15       33  27.111111  5.228129                    2.0   \n",
       "16       34  25.800000  4.406435                    1.0   \n",
       "17       30  23.400000  3.718679                    3.0   \n",
       "18       33  26.937500  3.957588                    1.0   \n",
       "19       31  24.846154  4.278749                    3.0   \n",
       "20       34  28.181818  4.512609                    1.0   \n",
       "21       34  25.820513  4.147744                    1.0   \n",
       "22       34  30.666667  3.881580                    1.0   \n",
       "23       34  24.756757  4.850002                    1.0   \n",
       "\n",
       "    academic_pressure_max  ...  study_hours_mean  study_hours_std  \\\n",
       "0                     5.0  ...          5.645161         3.610618   \n",
       "2                     5.0  ...          6.617647         3.593046   \n",
       "3                     5.0  ...          8.375000         3.292307   \n",
       "4                     5.0  ...          4.764706         4.380774   \n",
       "5                     5.0  ...          7.857143         2.613154   \n",
       "6                     4.0  ...          5.363636         3.354779   \n",
       "7                     5.0  ...          7.086957         3.436608   \n",
       "8                     4.0  ...          6.542857         4.024505   \n",
       "9                     5.0  ...          8.000000         3.696846   \n",
       "10                    5.0  ...          5.064516         3.776555   \n",
       "12                    4.0  ...          6.153846         3.625055   \n",
       "13                    5.0  ...          7.666667         3.037954   \n",
       "14                    4.0  ...          1.428571         1.511858   \n",
       "15                    5.0  ...          7.592593         3.091667   \n",
       "16                    5.0  ...          6.360000         3.795612   \n",
       "17                    5.0  ...          7.266667         3.769552   \n",
       "18                    5.0  ...          6.250000         4.024922   \n",
       "19                    5.0  ...          6.230769         3.244324   \n",
       "20                    4.0  ...          2.272727         2.327699   \n",
       "21                    5.0  ...          6.230769         3.923355   \n",
       "22                    3.0  ...          5.166667         4.535049   \n",
       "23                    5.0  ...          6.621622         4.091667   \n",
       "\n",
       "    financial_stress_min  financial_stress_max  financial_stress_mean  \\\n",
       "0                      1                     4               2.258065   \n",
       "2                      1                     5               2.676471   \n",
       "3                      1                     5               2.625000   \n",
       "4                      1                     5               2.588235   \n",
       "5                      1                     5               3.000000   \n",
       "6                      1                     4               2.363636   \n",
       "7                      1                     5               3.565217   \n",
       "8                      1                     5               2.485714   \n",
       "9                      2                     5               3.142857   \n",
       "10                     1                     5               2.677419   \n",
       "12                     1                     5               2.615385   \n",
       "13                     1                     5               3.484848   \n",
       "14                     1                     3               1.857143   \n",
       "15                     1                     5               3.148148   \n",
       "16                     1                     5               2.920000   \n",
       "17                     1                     5               3.533333   \n",
       "18                     1                     3               1.875000   \n",
       "19                     1                     5               3.384615   \n",
       "20                     1                     3               1.727273   \n",
       "21                     1                     5               3.307692   \n",
       "22                     1                     5               2.500000   \n",
       "23                     1                     5               3.189189   \n",
       "\n",
       "    financial_stress_std  individual_min  individual_max  individual_mean  \\\n",
       "0               0.964978              31             490       228.870968   \n",
       "2               1.471355              26             501       267.147059   \n",
       "3               1.505941             130             469       259.625000   \n",
       "4               1.227743              18             464       228.294118   \n",
       "5               1.341641              11             480       232.761905   \n",
       "6               1.286291               2             484       210.181818   \n",
       "7               1.273010              69             476       291.434783   \n",
       "8               1.314432               9             496       274.657143   \n",
       "9               1.069045              17             494       208.857143   \n",
       "10              1.375672              24             483       274.838710   \n",
       "12              1.757767             120             486       284.615385   \n",
       "13              1.349102               7             481       229.878788   \n",
       "14              0.690066              27             387       167.571429   \n",
       "15              1.485926              25             477       262.259259   \n",
       "16              1.656301              23             487       248.760000   \n",
       "17              1.355764              95             498       328.666667   \n",
       "18              0.718795              21             493       200.875000   \n",
       "19              1.609268              28             502       250.153846   \n",
       "20              0.786245              48             482       219.545455   \n",
       "21              1.524430               3             499       226.589744   \n",
       "22              1.643168             211             409       323.500000   \n",
       "23              1.329951               6             497       284.540541   \n",
       "\n",
       "    individual_std  \n",
       "0       140.045883  \n",
       "2       151.558596  \n",
       "3       126.609566  \n",
       "4       147.200868  \n",
       "5       115.231465  \n",
       "6       181.917464  \n",
       "7       114.343114  \n",
       "8       133.764926  \n",
       "9       168.969848  \n",
       "10      131.136849  \n",
       "12      124.626468  \n",
       "13      131.604226  \n",
       "14      140.148561  \n",
       "15      163.404781  \n",
       "16      138.995887  \n",
       "17      123.034064  \n",
       "18      167.159355  \n",
       "19      148.057335  \n",
       "20      163.935575  \n",
       "21      165.131163  \n",
       "22       68.072755  \n",
       "23      162.286029  \n",
       "\n",
       "[22 rows x 28 columns]"
      ]
     },
     "execution_count": 69,
     "metadata": {},
     "output_type": "execute_result"
    }
   ],
   "source": [
    "std_columns = [col for col in df_sums.columns if col.endswith('_std')]\n",
    "rows_with_zero = df_sums[df_sums[std_columns] == 0].dropna(how='all').index\n",
    "rows_with_zero.tolist()\n",
    "\n",
    "prob_freq = prob_freq.drop(rows_with_zero)\n",
    "df_sums = df_sums[~(df_sums[std_columns] == 0).any(axis=1)]\n",
    "\n",
    "df_sums"
   ]
  },
  {
   "cell_type": "code",
   "execution_count": 70,
   "id": "51dfa9ec-7565-463c-9df0-bb7e12a3ecb9",
   "metadata": {},
   "outputs": [],
   "source": [
    "def trunc_vector(min_val, max_val, media, desv_std, size):\n",
    "    a,b = (min_val - media) / desv_std, (max_val - media) / desv_std\n",
    "    \n",
    "    muestras = truncnorm.rvs(a,b, loc = media, scale = desv_std, size=size)\n",
    "    \n",
    "    return muestras"
   ]
  },
  {
   "cell_type": "code",
   "execution_count": 71,
   "id": "4b0e071d-ab2c-438d-805d-cd4f096926ba",
   "metadata": {},
   "outputs": [],
   "source": [
    "dfextended = pd.DataFrame()\n",
    "\n",
    "for i in prob_freq.index:\n",
    "    settings = {\n",
    "        \"id\" :ids[ids == i]\n",
    "    }\n",
    "    \n",
    "    for c in num_cols:\n",
    "        settings[c] = trunc_vector(\n",
    "            df_sums.loc[i][f'{c}_min'],\n",
    "            df_sums.loc[i][f'{c}_max'],\n",
    "            df_sums.loc[i][f'{c}_mean'],\n",
    "            df_sums.loc[i][f'{c}_std'],\n",
    "            len(ids[ids == i])\n",
    "        )\n",
    "    tmp = pd.DataFrame(settings)\n",
    "    dfextended = pd.concat([dfextended,tmp])"
   ]
  },
  {
   "cell_type": "code",
   "execution_count": 72,
   "id": "b21f2aad-6af2-4ef2-9f84-fae90c3682e1",
   "metadata": {},
   "outputs": [
    {
     "data": {
      "application/vnd.microsoft.datawrangler.viewer.v0+json": {
       "columns": [
        {
         "name": "index",
         "rawType": "int64",
         "type": "integer"
        },
        {
         "name": "id",
         "rawType": "int64",
         "type": "integer"
        },
        {
         "name": "age",
         "rawType": "float64",
         "type": "float"
        },
        {
         "name": "academic_pressure",
         "rawType": "float64",
         "type": "float"
        },
        {
         "name": "study_satisfaction",
         "rawType": "float64",
         "type": "float"
        },
        {
         "name": "study_hours",
         "rawType": "float64",
         "type": "float"
        },
        {
         "name": "financial_stress",
         "rawType": "float64",
         "type": "float"
        },
        {
         "name": "individual",
         "rawType": "float64",
         "type": "float"
        }
       ],
       "conversionMethod": "pd.DataFrame",
       "ref": "d43bab13-90ad-4783-a7f4-8e63b2098160",
       "rows": [
        [
         "0",
         "0",
         "23.66786143858794",
         "2.3062110639997853",
         "3.49101129210703",
         "10.064198331236506",
         "3.3012119514477742",
         "86.20314665469513"
        ],
        [
         "1",
         "0",
         "30.294839698598846",
         "3.054372390314335",
         "3.4438750802765914",
         "10.129957143992591",
         "3.302745043389132",
         "210.80609966484047"
        ],
        [
         "2",
         "0",
         "28.34813361664621",
         "3.683427565362693",
         "3.69856828144229",
         "5.498946908133806",
         "2.459319671863606",
         "126.45873193202917"
        ],
        [
         "3",
         "0",
         "28.67886457614657",
         "3.489911896683801",
         "3.5928332492941353",
         "8.9068605418366",
         "1.6252976286859386",
         "358.2690391394351"
        ],
        [
         "4",
         "0",
         "23.669527718673514",
         "4.549041323448202",
         "4.746891519533479",
         "11.401531609779061",
         "1.7325977081462516",
         "345.4214904780234"
        ],
        [
         "5",
         "0",
         "24.592323397312754",
         "3.756659035312498",
         "1.495967340424116",
         "5.064401336470356",
         "1.5216750310016685",
         "402.688145096439"
        ],
        [
         "6",
         "0",
         "23.07479558996147",
         "2.689725626531335",
         "4.499178254955318",
         "9.906441397191315",
         "2.304887686301129",
         "233.6634871544431"
        ],
        [
         "7",
         "0",
         "33.53756282684354",
         "3.56892717033055",
         "4.490771138293869",
         "4.1091128290899395",
         "1.6102279590804693",
         "97.37860542972177"
        ],
        [
         "8",
         "0",
         "29.439516240486455",
         "2.1411146734440054",
         "4.684960954117717",
         "10.84670490461724",
         "2.288861471718628",
         "230.52000298199127"
        ],
        [
         "9",
         "0",
         "27.27416441409895",
         "3.7972093297561527",
         "4.538635145768403",
         "8.160275346240212",
         "1.2264388960533454",
         "202.99088926194972"
        ],
        [
         "10",
         "0",
         "22.252597671001816",
         "2.956797120559245",
         "4.13270874263193",
         "4.293250269981832",
         "1.4990519759049423",
         "331.00677486164295"
        ],
        [
         "11",
         "0",
         "29.689699868093676",
         "4.136315936701601",
         "2.985970416598027",
         "3.841204290012691",
         "2.1986248447809547",
         "296.4369252670411"
        ],
        [
         "12",
         "0",
         "29.504928251166813",
         "3.292080873367414",
         "1.464306400317385",
         "6.73841810416541",
         "3.011552620038091",
         "307.03878915360053"
        ],
        [
         "13",
         "0",
         "31.679439774470225",
         "1.5036304228286161",
         "4.424996451388548",
         "6.605092398624828",
         "2.4576002830310966",
         "249.28575466384424"
        ],
        [
         "14",
         "0",
         "23.716887674593142",
         "1.5752100570366594",
         "3.096697887310012",
         "4.338995717785796",
         "1.7004639682519604",
         "224.18036010398666"
        ],
        [
         "15",
         "0",
         "19.61747127752991",
         "1.9720081003470704",
         "1.1553321391433036",
         "0.47496305378579073",
         "2.8539491922623768",
         "63.977953456304505"
        ],
        [
         "16",
         "0",
         "28.547387715810704",
         "1.2673442955095875",
         "4.02788006107668",
         "9.272251981142034",
         "2.1322060445175017",
         "353.29376440191936"
        ],
        [
         "17",
         "0",
         "30.921230780460515",
         "2.218214049501159",
         "2.8445379629579546",
         "9.458733599750733",
         "2.632836391072815",
         "214.4034725580656"
        ],
        [
         "18",
         "0",
         "28.708080961915556",
         "3.262077985444563",
         "3.2516324362355564",
         "4.831388543152013",
         "1.7828367410795436",
         "38.616013348956386"
        ],
        [
         "19",
         "0",
         "32.359853337341036",
         "1.6306818393433369",
         "3.379688216519392",
         "3.996610114511685",
         "2.4019229376110447",
         "242.52187331046372"
        ],
        [
         "20",
         "0",
         "31.934652915737704",
         "3.0424486610019503",
         "2.2800219869731224",
         "6.235153701781584",
         "1.3930653814332516",
         "325.54295500644986"
        ],
        [
         "21",
         "0",
         "26.372280069350456",
         "3.630305841853117",
         "2.50944310394532",
         "6.937392732824761",
         "1.2595711404046492",
         "289.30431350548787"
        ],
        [
         "22",
         "0",
         "33.61446989520332",
         "3.1574116309728937",
         "3.0895494427291874",
         "8.198976287928732",
         "1.8826616907414846",
         "272.3523720353005"
        ],
        [
         "23",
         "0",
         "27.57803702085455",
         "2.9170657849862494",
         "4.549017654515838",
         "1.7652339395643644",
         "1.5164390789086577",
         "76.98396839739951"
        ],
        [
         "24",
         "0",
         "33.73686372346323",
         "4.39153256287533",
         "4.047910440502784",
         "3.019588465153174",
         "3.1451160072374633",
         "82.92837866301596"
        ],
        [
         "25",
         "0",
         "22.823580300917527",
         "2.3808889256538808",
         "1.2087388601051754",
         "7.135865124634989",
         "1.9525844791130995",
         "241.22284592518258"
        ],
        [
         "26",
         "0",
         "30.20076420447177",
         "4.019653168899211",
         "2.347127898409184",
         "8.045059099085092",
         "2.7583292670885133",
         "366.4008482578982"
        ],
        [
         "27",
         "0",
         "33.44179689981244",
         "4.188340638906915",
         "1.1790247393583657",
         "5.7341744998768736",
         "1.7203841679576817",
         "337.3661487550351"
        ],
        [
         "28",
         "0",
         "27.910160844895458",
         "3.503763199799796",
         "3.1698017698757583",
         "9.579578067884711",
         "1.638647785386048",
         "139.59601028204182"
        ],
        [
         "29",
         "0",
         "22.124016306476634",
         "4.740612984930915",
         "2.4685288901299134",
         "5.380362169253748",
         "2.241358655940413",
         "390.4657907819611"
        ],
        [
         "30",
         "0",
         "30.40741118323352",
         "1.039486287176907",
         "4.600896950476195",
         "10.511021595374649",
         "2.5904189740138177",
         "155.22252064898765"
        ],
        [
         "31",
         "0",
         "32.49847679212981",
         "3.4939561770572825",
         "4.815343564358611",
         "8.705804942451868",
         "1.589159494004791",
         "156.3021696449763"
        ],
        [
         "32",
         "0",
         "26.314891683562642",
         "4.423375438815307",
         "3.6298509263836536",
         "1.9549769234811025",
         "1.9294564872844546",
         "355.86954803768583"
        ],
        [
         "33",
         "0",
         "24.323585430499975",
         "1.5801121277228367",
         "3.6620627389237916",
         "10.790236080257944",
         "2.4264549470684895",
         "265.82922798564795"
        ],
        [
         "34",
         "0",
         "28.16399093186408",
         "4.233181045122424",
         "4.141673482348961",
         "1.9819921733226518",
         "1.9061823235407669",
         "195.9974899751578"
        ],
        [
         "35",
         "0",
         "28.407445821491713",
         "3.2099951245896765",
         "4.1107581862450475",
         "3.996925852310497",
         "2.0011273986501337",
         "138.98135822840948"
        ],
        [
         "36",
         "0",
         "22.481724020975385",
         "1.3286504443873437",
         "3.423566173087746",
         "5.893501633888847",
         "2.2856828051885394",
         "231.33013506389364"
        ],
        [
         "37",
         "0",
         "20.469257592913976",
         "3.122288924301747",
         "2.4140636349767868",
         "3.7236442550489244",
         "1.6236381834453646",
         "196.9680596348242"
        ],
        [
         "38",
         "0",
         "18.958676710806834",
         "3.4615240933709934",
         "3.211592280405802",
         "10.467457107247064",
         "2.3814153475948174",
         "436.74159845138246"
        ],
        [
         "39",
         "0",
         "28.949463966206082",
         "2.588057358490034",
         "2.9263753192388604",
         "7.74738098764195",
         "3.8360138819658816",
         "110.56705466259122"
        ],
        [
         "40",
         "0",
         "22.979633904686487",
         "2.9016020328862018",
         "4.128292692772798",
         "2.7772141331020066",
         "2.3326732067200564",
         "489.49710820799584"
        ],
        [
         "41",
         "0",
         "24.354964561308584",
         "2.262730799306188",
         "2.6675561071792506",
         "6.78074754073916",
         "2.2187904848969504",
         "170.31442323966724"
        ],
        [
         "42",
         "0",
         "28.472899543932378",
         "2.449290193588909",
         "2.969453521927555",
         "11.146879056862748",
         "1.1587038714734597",
         "171.62497572278707"
        ],
        [
         "43",
         "0",
         "25.579595299180074",
         "3.0708477178061586",
         "2.2521590668883413",
         "1.6652780462311454",
         "2.903663176776335",
         "244.00564827725054"
        ],
        [
         "44",
         "0",
         "23.883763279706187",
         "2.284602904089466",
         "2.939165196429482",
         "2.919899456350877",
         "3.4184217384901494",
         "257.40631595729"
        ],
        [
         "45",
         "0",
         "24.422940541765957",
         "3.5458074013012757",
         "1.6384307406810827",
         "1.2180378786493407",
         "1.2750938922055695",
         "135.378831704057"
        ],
        [
         "46",
         "0",
         "27.494945543892904",
         "3.000405437634126",
         "3.7577065346301857",
         "3.312226338454676",
         "2.9539752973121405",
         "76.04480341818521"
        ],
        [
         "47",
         "0",
         "31.655611809360604",
         "1.3443965152653314",
         "4.670118723832774",
         "3.7696088916492876",
         "1.630668169050976",
         "200.08504180331443"
        ],
        [
         "48",
         "0",
         "30.915883667745096",
         "4.065627219580078",
         "1.9524036797372188",
         "2.039216358239148",
         "3.0995770237955464",
         "231.11032506286847"
        ],
        [
         "49",
         "0",
         "28.486186795376852",
         "3.301170522900115",
         "1.5025586269062001",
         "1.3672120369683602",
         "1.5474176927916954",
         "253.04802697111015"
        ]
       ],
       "shape": {
        "columns": 7,
        "rows": 97237
       }
      },
      "text/html": [
       "<div>\n",
       "<style scoped>\n",
       "    .dataframe tbody tr th:only-of-type {\n",
       "        vertical-align: middle;\n",
       "    }\n",
       "\n",
       "    .dataframe tbody tr th {\n",
       "        vertical-align: top;\n",
       "    }\n",
       "\n",
       "    .dataframe thead th {\n",
       "        text-align: right;\n",
       "    }\n",
       "</style>\n",
       "<table border=\"1\" class=\"dataframe\">\n",
       "  <thead>\n",
       "    <tr style=\"text-align: right;\">\n",
       "      <th></th>\n",
       "      <th>id</th>\n",
       "      <th>age</th>\n",
       "      <th>academic_pressure</th>\n",
       "      <th>study_satisfaction</th>\n",
       "      <th>study_hours</th>\n",
       "      <th>financial_stress</th>\n",
       "      <th>individual</th>\n",
       "    </tr>\n",
       "  </thead>\n",
       "  <tbody>\n",
       "    <tr>\n",
       "      <th>0</th>\n",
       "      <td>0</td>\n",
       "      <td>23.667861</td>\n",
       "      <td>2.306211</td>\n",
       "      <td>3.491011</td>\n",
       "      <td>10.064198</td>\n",
       "      <td>3.301212</td>\n",
       "      <td>86.203147</td>\n",
       "    </tr>\n",
       "    <tr>\n",
       "      <th>1</th>\n",
       "      <td>0</td>\n",
       "      <td>30.294840</td>\n",
       "      <td>3.054372</td>\n",
       "      <td>3.443875</td>\n",
       "      <td>10.129957</td>\n",
       "      <td>3.302745</td>\n",
       "      <td>210.806100</td>\n",
       "    </tr>\n",
       "    <tr>\n",
       "      <th>2</th>\n",
       "      <td>0</td>\n",
       "      <td>28.348134</td>\n",
       "      <td>3.683428</td>\n",
       "      <td>3.698568</td>\n",
       "      <td>5.498947</td>\n",
       "      <td>2.459320</td>\n",
       "      <td>126.458732</td>\n",
       "    </tr>\n",
       "    <tr>\n",
       "      <th>3</th>\n",
       "      <td>0</td>\n",
       "      <td>28.678865</td>\n",
       "      <td>3.489912</td>\n",
       "      <td>3.592833</td>\n",
       "      <td>8.906861</td>\n",
       "      <td>1.625298</td>\n",
       "      <td>358.269039</td>\n",
       "    </tr>\n",
       "    <tr>\n",
       "      <th>4</th>\n",
       "      <td>0</td>\n",
       "      <td>23.669528</td>\n",
       "      <td>4.549041</td>\n",
       "      <td>4.746892</td>\n",
       "      <td>11.401532</td>\n",
       "      <td>1.732598</td>\n",
       "      <td>345.421490</td>\n",
       "    </tr>\n",
       "    <tr>\n",
       "      <th>...</th>\n",
       "      <td>...</td>\n",
       "      <td>...</td>\n",
       "      <td>...</td>\n",
       "      <td>...</td>\n",
       "      <td>...</td>\n",
       "      <td>...</td>\n",
       "      <td>...</td>\n",
       "    </tr>\n",
       "    <tr>\n",
       "      <th>7394</th>\n",
       "      <td>23</td>\n",
       "      <td>22.033394</td>\n",
       "      <td>4.744666</td>\n",
       "      <td>2.822548</td>\n",
       "      <td>7.906901</td>\n",
       "      <td>3.424873</td>\n",
       "      <td>192.762678</td>\n",
       "    </tr>\n",
       "    <tr>\n",
       "      <th>7395</th>\n",
       "      <td>23</td>\n",
       "      <td>26.674830</td>\n",
       "      <td>1.279314</td>\n",
       "      <td>2.331292</td>\n",
       "      <td>4.826610</td>\n",
       "      <td>2.007642</td>\n",
       "      <td>138.739363</td>\n",
       "    </tr>\n",
       "    <tr>\n",
       "      <th>7396</th>\n",
       "      <td>23</td>\n",
       "      <td>32.222797</td>\n",
       "      <td>3.240790</td>\n",
       "      <td>2.038819</td>\n",
       "      <td>3.183804</td>\n",
       "      <td>3.425178</td>\n",
       "      <td>219.732739</td>\n",
       "    </tr>\n",
       "    <tr>\n",
       "      <th>7397</th>\n",
       "      <td>23</td>\n",
       "      <td>28.287087</td>\n",
       "      <td>2.797854</td>\n",
       "      <td>2.460644</td>\n",
       "      <td>10.909943</td>\n",
       "      <td>2.189896</td>\n",
       "      <td>338.081387</td>\n",
       "    </tr>\n",
       "    <tr>\n",
       "      <th>7398</th>\n",
       "      <td>23</td>\n",
       "      <td>18.862457</td>\n",
       "      <td>2.574992</td>\n",
       "      <td>2.086714</td>\n",
       "      <td>10.583308</td>\n",
       "      <td>3.027539</td>\n",
       "      <td>357.435467</td>\n",
       "    </tr>\n",
       "  </tbody>\n",
       "</table>\n",
       "<p>97237 rows × 7 columns</p>\n",
       "</div>"
      ],
      "text/plain": [
       "      id        age  academic_pressure  study_satisfaction  study_hours  \\\n",
       "0      0  23.667861           2.306211            3.491011    10.064198   \n",
       "1      0  30.294840           3.054372            3.443875    10.129957   \n",
       "2      0  28.348134           3.683428            3.698568     5.498947   \n",
       "3      0  28.678865           3.489912            3.592833     8.906861   \n",
       "4      0  23.669528           4.549041            4.746892    11.401532   \n",
       "...   ..        ...                ...                 ...          ...   \n",
       "7394  23  22.033394           4.744666            2.822548     7.906901   \n",
       "7395  23  26.674830           1.279314            2.331292     4.826610   \n",
       "7396  23  32.222797           3.240790            2.038819     3.183804   \n",
       "7397  23  28.287087           2.797854            2.460644    10.909943   \n",
       "7398  23  18.862457           2.574992            2.086714    10.583308   \n",
       "\n",
       "      financial_stress  individual  \n",
       "0             3.301212   86.203147  \n",
       "1             3.302745  210.806100  \n",
       "2             2.459320  126.458732  \n",
       "3             1.625298  358.269039  \n",
       "4             1.732598  345.421490  \n",
       "...                ...         ...  \n",
       "7394          3.424873  192.762678  \n",
       "7395          2.007642  138.739363  \n",
       "7396          3.425178  219.732739  \n",
       "7397          2.189896  338.081387  \n",
       "7398          3.027539  357.435467  \n",
       "\n",
       "[97237 rows x 7 columns]"
      ]
     },
     "execution_count": 72,
     "metadata": {},
     "output_type": "execute_result"
    }
   ],
   "source": [
    "dfextended"
   ]
  },
  {
   "cell_type": "code",
   "execution_count": 73,
   "id": "e4381b51",
   "metadata": {},
   "outputs": [],
   "source": [
    "prob_freq['id'] = prob_freq.index\n",
    "\n",
    "final = prob_freq.loc[:,['id'] + cat_cols].merge(\n",
    "    dfextended\n",
    "    ,on =[\"id\"]\n",
    "    ,how='inner'\n",
    ")"
   ]
  },
  {
   "cell_type": "code",
   "execution_count": 74,
   "id": "e39f6252",
   "metadata": {},
   "outputs": [
    {
     "data": {
      "application/vnd.microsoft.datawrangler.viewer.v0+json": {
       "columns": [
        {
         "name": "index",
         "rawType": "int64",
         "type": "integer"
        },
        {
         "name": "id",
         "rawType": "int64",
         "type": "integer"
        },
        {
         "name": "dietary_habits",
         "rawType": "object",
         "type": "string"
        },
        {
         "name": "suicidal_thoughts",
         "rawType": "object",
         "type": "string"
        },
        {
         "name": "family_history",
         "rawType": "object",
         "type": "string"
        },
        {
         "name": "depression",
         "rawType": "object",
         "type": "string"
        },
        {
         "name": "age",
         "rawType": "int64",
         "type": "integer"
        },
        {
         "name": "academic_pressure",
         "rawType": "int64",
         "type": "integer"
        },
        {
         "name": "study_satisfaction",
         "rawType": "int64",
         "type": "integer"
        },
        {
         "name": "study_hours",
         "rawType": "float64",
         "type": "float"
        },
        {
         "name": "financial_stress",
         "rawType": "int64",
         "type": "integer"
        }
       ],
       "conversionMethod": "pd.DataFrame",
       "ref": "27298ce3-e1ba-4209-a4a5-f30852ba4b9b",
       "rows": [
        [
         "0",
         "0",
         "Healthy",
         "No",
         "No",
         "No",
         "24",
         "2",
         "3",
         "10.064198331236506",
         "3"
        ],
        [
         "1",
         "0",
         "Healthy",
         "No",
         "No",
         "No",
         "30",
         "3",
         "3",
         "10.129957143992591",
         "3"
        ],
        [
         "2",
         "0",
         "Healthy",
         "No",
         "No",
         "No",
         "28",
         "4",
         "4",
         "5.498946908133806",
         "2"
        ],
        [
         "3",
         "0",
         "Healthy",
         "No",
         "No",
         "No",
         "29",
         "3",
         "4",
         "8.9068605418366",
         "2"
        ],
        [
         "4",
         "0",
         "Healthy",
         "No",
         "No",
         "No",
         "24",
         "5",
         "5",
         "11.401531609779061",
         "2"
        ]
       ],
       "shape": {
        "columns": 10,
        "rows": 5
       }
      },
      "text/html": [
       "<div>\n",
       "<style scoped>\n",
       "    .dataframe tbody tr th:only-of-type {\n",
       "        vertical-align: middle;\n",
       "    }\n",
       "\n",
       "    .dataframe tbody tr th {\n",
       "        vertical-align: top;\n",
       "    }\n",
       "\n",
       "    .dataframe thead th {\n",
       "        text-align: right;\n",
       "    }\n",
       "</style>\n",
       "<table border=\"1\" class=\"dataframe\">\n",
       "  <thead>\n",
       "    <tr style=\"text-align: right;\">\n",
       "      <th></th>\n",
       "      <th>id</th>\n",
       "      <th>dietary_habits</th>\n",
       "      <th>suicidal_thoughts</th>\n",
       "      <th>family_history</th>\n",
       "      <th>depression</th>\n",
       "      <th>age</th>\n",
       "      <th>academic_pressure</th>\n",
       "      <th>study_satisfaction</th>\n",
       "      <th>study_hours</th>\n",
       "      <th>financial_stress</th>\n",
       "    </tr>\n",
       "  </thead>\n",
       "  <tbody>\n",
       "    <tr>\n",
       "      <th>0</th>\n",
       "      <td>0</td>\n",
       "      <td>Healthy</td>\n",
       "      <td>No</td>\n",
       "      <td>No</td>\n",
       "      <td>No</td>\n",
       "      <td>24</td>\n",
       "      <td>2</td>\n",
       "      <td>3</td>\n",
       "      <td>10.064198</td>\n",
       "      <td>3</td>\n",
       "    </tr>\n",
       "    <tr>\n",
       "      <th>1</th>\n",
       "      <td>0</td>\n",
       "      <td>Healthy</td>\n",
       "      <td>No</td>\n",
       "      <td>No</td>\n",
       "      <td>No</td>\n",
       "      <td>30</td>\n",
       "      <td>3</td>\n",
       "      <td>3</td>\n",
       "      <td>10.129957</td>\n",
       "      <td>3</td>\n",
       "    </tr>\n",
       "    <tr>\n",
       "      <th>2</th>\n",
       "      <td>0</td>\n",
       "      <td>Healthy</td>\n",
       "      <td>No</td>\n",
       "      <td>No</td>\n",
       "      <td>No</td>\n",
       "      <td>28</td>\n",
       "      <td>4</td>\n",
       "      <td>4</td>\n",
       "      <td>5.498947</td>\n",
       "      <td>2</td>\n",
       "    </tr>\n",
       "    <tr>\n",
       "      <th>3</th>\n",
       "      <td>0</td>\n",
       "      <td>Healthy</td>\n",
       "      <td>No</td>\n",
       "      <td>No</td>\n",
       "      <td>No</td>\n",
       "      <td>29</td>\n",
       "      <td>3</td>\n",
       "      <td>4</td>\n",
       "      <td>8.906861</td>\n",
       "      <td>2</td>\n",
       "    </tr>\n",
       "    <tr>\n",
       "      <th>4</th>\n",
       "      <td>0</td>\n",
       "      <td>Healthy</td>\n",
       "      <td>No</td>\n",
       "      <td>No</td>\n",
       "      <td>No</td>\n",
       "      <td>24</td>\n",
       "      <td>5</td>\n",
       "      <td>5</td>\n",
       "      <td>11.401532</td>\n",
       "      <td>2</td>\n",
       "    </tr>\n",
       "  </tbody>\n",
       "</table>\n",
       "</div>"
      ],
      "text/plain": [
       "   id dietary_habits suicidal_thoughts family_history depression  age  \\\n",
       "0   0        Healthy                No             No         No   24   \n",
       "1   0        Healthy                No             No         No   30   \n",
       "2   0        Healthy                No             No         No   28   \n",
       "3   0        Healthy                No             No         No   29   \n",
       "4   0        Healthy                No             No         No   24   \n",
       "\n",
       "   academic_pressure  study_satisfaction  study_hours  financial_stress  \n",
       "0                  2                   3    10.064198                 3  \n",
       "1                  3                   3    10.129957                 3  \n",
       "2                  4                   4     5.498947                 2  \n",
       "3                  3                   4     8.906861                 2  \n",
       "4                  5                   5    11.401532                 2  "
      ]
     },
     "execution_count": 74,
     "metadata": {},
     "output_type": "execute_result"
    }
   ],
   "source": [
    "final[['age','academic_pressure','study_satisfaction','financial_stress']] = final[['age','academic_pressure','study_satisfaction','financial_stress']].round(0).astype(int)\n",
    "\n",
    "\n",
    "final = final.drop('individual', axis=1)\n",
    "\n",
    "final.head(5)"
   ]
  },
  {
   "cell_type": "markdown",
   "id": "0ae45707",
   "metadata": {},
   "source": [
    "# 4. Análisis Comparativo (EDA del Dataset Expandido)\n",
    "Apliquen el mismo EDA realizado en el dataset original al nuevo dataset \n",
    "expandido.\n",
    " * Comparen los resultados entre ambos EDA (original y expandido), discutiendo:\n",
    " * Diferencias en la distribución de los datos.\n",
    " * Cambios en promedios, desviaciones estándar y otros valores estadísticos.\n",
    " * La influencia de la simulación en la calidad y confiabilidad del dataset."
   ]
  },
  {
   "cell_type": "code",
   "execution_count": 75,
   "id": "c7b0ad13",
   "metadata": {},
   "outputs": [
    {
     "data": {
      "text/plain": [
       "['id',\n",
       " 'age',\n",
       " 'academic_pressure',\n",
       " 'study_satisfaction',\n",
       " 'study_hours',\n",
       " 'financial_stress']"
      ]
     },
     "execution_count": 75,
     "metadata": {},
     "output_type": "execute_result"
    }
   ],
   "source": [
    "final_num_cols = []\n",
    "\n",
    "for c in final.columns:\n",
    "    if (final[c].dtype == 'int64' or final[c].dtype =='float64'):\n",
    "        final_num_cols.append(c)\n",
    "\n",
    "final_num_cols"
   ]
  },
  {
   "cell_type": "code",
   "execution_count": 76,
   "id": "9479a03d",
   "metadata": {},
   "outputs": [
    {
     "data": {
      "application/vnd.microsoft.datawrangler.viewer.v0+json": {
       "columns": [
        {
         "name": "index",
         "rawType": "int64",
         "type": "integer"
        },
        {
         "name": "id",
         "rawType": "int64",
         "type": "integer"
        },
        {
         "name": "age",
         "rawType": "int64",
         "type": "integer"
        },
        {
         "name": "academic_pressure",
         "rawType": "int64",
         "type": "integer"
        },
        {
         "name": "study_satisfaction",
         "rawType": "int64",
         "type": "integer"
        },
        {
         "name": "study_hours",
         "rawType": "float64",
         "type": "float"
        },
        {
         "name": "financial_stress",
         "rawType": "int64",
         "type": "integer"
        }
       ],
       "conversionMethod": "pd.DataFrame",
       "ref": "a027d6ff-1848-4d38-984c-66af67a6c64d",
       "rows": [
        [
         "0",
         "0",
         "24",
         "2",
         "3",
         "10.064198331236506",
         "3"
        ],
        [
         "1",
         "0",
         "30",
         "3",
         "3",
         "10.129957143992591",
         "3"
        ]
       ],
       "shape": {
        "columns": 6,
        "rows": 2
       }
      },
      "text/html": [
       "<div>\n",
       "<style scoped>\n",
       "    .dataframe tbody tr th:only-of-type {\n",
       "        vertical-align: middle;\n",
       "    }\n",
       "\n",
       "    .dataframe tbody tr th {\n",
       "        vertical-align: top;\n",
       "    }\n",
       "\n",
       "    .dataframe thead th {\n",
       "        text-align: right;\n",
       "    }\n",
       "</style>\n",
       "<table border=\"1\" class=\"dataframe\">\n",
       "  <thead>\n",
       "    <tr style=\"text-align: right;\">\n",
       "      <th></th>\n",
       "      <th>id</th>\n",
       "      <th>age</th>\n",
       "      <th>academic_pressure</th>\n",
       "      <th>study_satisfaction</th>\n",
       "      <th>study_hours</th>\n",
       "      <th>financial_stress</th>\n",
       "    </tr>\n",
       "  </thead>\n",
       "  <tbody>\n",
       "    <tr>\n",
       "      <th>0</th>\n",
       "      <td>0</td>\n",
       "      <td>24</td>\n",
       "      <td>2</td>\n",
       "      <td>3</td>\n",
       "      <td>10.064198</td>\n",
       "      <td>3</td>\n",
       "    </tr>\n",
       "    <tr>\n",
       "      <th>1</th>\n",
       "      <td>0</td>\n",
       "      <td>30</td>\n",
       "      <td>3</td>\n",
       "      <td>3</td>\n",
       "      <td>10.129957</td>\n",
       "      <td>3</td>\n",
       "    </tr>\n",
       "  </tbody>\n",
       "</table>\n",
       "</div>"
      ],
      "text/plain": [
       "   id  age  academic_pressure  study_satisfaction  study_hours  \\\n",
       "0   0   24                  2                   3    10.064198   \n",
       "1   0   30                  3                   3    10.129957   \n",
       "\n",
       "   financial_stress  \n",
       "0                 3  \n",
       "1                 3  "
      ]
     },
     "execution_count": 76,
     "metadata": {},
     "output_type": "execute_result"
    }
   ],
   "source": [
    "final_num_cols = pd.DataFrame(final[final_num_cols])\n",
    "final_num_cols.head(2)"
   ]
  },
  {
   "cell_type": "code",
   "execution_count": 77,
   "id": "403c4ed1",
   "metadata": {},
   "outputs": [
    {
     "data": {
      "application/vnd.microsoft.datawrangler.viewer.v0+json": {
       "columns": [
        {
         "name": "index",
         "rawType": "object",
         "type": "string"
        },
        {
         "name": "id",
         "rawType": "float64",
         "type": "float"
        },
        {
         "name": "age",
         "rawType": "float64",
         "type": "float"
        },
        {
         "name": "academic_pressure",
         "rawType": "float64",
         "type": "float"
        },
        {
         "name": "study_satisfaction",
         "rawType": "float64",
         "type": "float"
        },
        {
         "name": "study_hours",
         "rawType": "float64",
         "type": "float"
        },
        {
         "name": "financial_stress",
         "rawType": "float64",
         "type": "float"
        }
       ],
       "conversionMethod": "pd.DataFrame",
       "ref": "cc414560-ab93-4609-9f4b-d41973322157",
       "rows": [
        [
         "count",
         "97237.0",
         "97237.0",
         "97237.0",
         "97237.0",
         "97237.0",
         "97237.0"
        ],
        [
         "mean",
         "11.780093997141005",
         "26.287668274422288",
         "3.0227382580704876",
         "3.062455649598404",
         "6.266984144431548",
         "2.8724765264251264"
        ],
        [
         "std",
         "7.118438464467765",
         "3.845342197936906",
         "1.1003232788330792",
         "1.0697895386089156",
         "2.9295745262616792",
         "1.0766936855587221"
        ],
        [
         "min",
         "0.0",
         "18.0",
         "1.0",
         "1.0",
         "0.00018361133302158272",
         "1.0"
        ],
        [
         "25%",
         "6.0",
         "23.0",
         "2.0",
         "2.0",
         "4.051547299622282",
         "2.0"
        ],
        [
         "50%",
         "12.0",
         "26.0",
         "3.0",
         "3.0",
         "6.359686938306087",
         "3.0"
        ],
        [
         "75%",
         "18.0",
         "29.0",
         "4.0",
         "4.0",
         "8.542655102370729",
         "4.0"
        ],
        [
         "max",
         "23.0",
         "34.0",
         "5.0",
         "5.0",
         "11.999804137068194",
         "5.0"
        ]
       ],
       "shape": {
        "columns": 6,
        "rows": 8
       }
      },
      "text/html": [
       "<div>\n",
       "<style scoped>\n",
       "    .dataframe tbody tr th:only-of-type {\n",
       "        vertical-align: middle;\n",
       "    }\n",
       "\n",
       "    .dataframe tbody tr th {\n",
       "        vertical-align: top;\n",
       "    }\n",
       "\n",
       "    .dataframe thead th {\n",
       "        text-align: right;\n",
       "    }\n",
       "</style>\n",
       "<table border=\"1\" class=\"dataframe\">\n",
       "  <thead>\n",
       "    <tr style=\"text-align: right;\">\n",
       "      <th></th>\n",
       "      <th>id</th>\n",
       "      <th>age</th>\n",
       "      <th>academic_pressure</th>\n",
       "      <th>study_satisfaction</th>\n",
       "      <th>study_hours</th>\n",
       "      <th>financial_stress</th>\n",
       "    </tr>\n",
       "  </thead>\n",
       "  <tbody>\n",
       "    <tr>\n",
       "      <th>count</th>\n",
       "      <td>97237.000000</td>\n",
       "      <td>97237.000000</td>\n",
       "      <td>97237.000000</td>\n",
       "      <td>97237.000000</td>\n",
       "      <td>97237.000000</td>\n",
       "      <td>97237.000000</td>\n",
       "    </tr>\n",
       "    <tr>\n",
       "      <th>mean</th>\n",
       "      <td>11.780094</td>\n",
       "      <td>26.287668</td>\n",
       "      <td>3.022738</td>\n",
       "      <td>3.062456</td>\n",
       "      <td>6.266984</td>\n",
       "      <td>2.872477</td>\n",
       "    </tr>\n",
       "    <tr>\n",
       "      <th>std</th>\n",
       "      <td>7.118438</td>\n",
       "      <td>3.845342</td>\n",
       "      <td>1.100323</td>\n",
       "      <td>1.069790</td>\n",
       "      <td>2.929575</td>\n",
       "      <td>1.076694</td>\n",
       "    </tr>\n",
       "    <tr>\n",
       "      <th>min</th>\n",
       "      <td>0.000000</td>\n",
       "      <td>18.000000</td>\n",
       "      <td>1.000000</td>\n",
       "      <td>1.000000</td>\n",
       "      <td>0.000184</td>\n",
       "      <td>1.000000</td>\n",
       "    </tr>\n",
       "    <tr>\n",
       "      <th>25%</th>\n",
       "      <td>6.000000</td>\n",
       "      <td>23.000000</td>\n",
       "      <td>2.000000</td>\n",
       "      <td>2.000000</td>\n",
       "      <td>4.051547</td>\n",
       "      <td>2.000000</td>\n",
       "    </tr>\n",
       "    <tr>\n",
       "      <th>50%</th>\n",
       "      <td>12.000000</td>\n",
       "      <td>26.000000</td>\n",
       "      <td>3.000000</td>\n",
       "      <td>3.000000</td>\n",
       "      <td>6.359687</td>\n",
       "      <td>3.000000</td>\n",
       "    </tr>\n",
       "    <tr>\n",
       "      <th>75%</th>\n",
       "      <td>18.000000</td>\n",
       "      <td>29.000000</td>\n",
       "      <td>4.000000</td>\n",
       "      <td>4.000000</td>\n",
       "      <td>8.542655</td>\n",
       "      <td>4.000000</td>\n",
       "    </tr>\n",
       "    <tr>\n",
       "      <th>max</th>\n",
       "      <td>23.000000</td>\n",
       "      <td>34.000000</td>\n",
       "      <td>5.000000</td>\n",
       "      <td>5.000000</td>\n",
       "      <td>11.999804</td>\n",
       "      <td>5.000000</td>\n",
       "    </tr>\n",
       "  </tbody>\n",
       "</table>\n",
       "</div>"
      ],
      "text/plain": [
       "                 id           age  academic_pressure  study_satisfaction  \\\n",
       "count  97237.000000  97237.000000       97237.000000        97237.000000   \n",
       "mean      11.780094     26.287668           3.022738            3.062456   \n",
       "std        7.118438      3.845342           1.100323            1.069790   \n",
       "min        0.000000     18.000000           1.000000            1.000000   \n",
       "25%        6.000000     23.000000           2.000000            2.000000   \n",
       "50%       12.000000     26.000000           3.000000            3.000000   \n",
       "75%       18.000000     29.000000           4.000000            4.000000   \n",
       "max       23.000000     34.000000           5.000000            5.000000   \n",
       "\n",
       "        study_hours  financial_stress  \n",
       "count  97237.000000      97237.000000  \n",
       "mean       6.266984          2.872477  \n",
       "std        2.929575          1.076694  \n",
       "min        0.000184          1.000000  \n",
       "25%        4.051547          2.000000  \n",
       "50%        6.359687          3.000000  \n",
       "75%        8.542655          4.000000  \n",
       "max       11.999804          5.000000  "
      ]
     },
     "execution_count": 77,
     "metadata": {},
     "output_type": "execute_result"
    }
   ],
   "source": [
    "final_num_cols.describe()"
   ]
  },
  {
   "cell_type": "code",
   "execution_count": 78,
   "id": "6a128b96",
   "metadata": {},
   "outputs": [
    {
     "data": {
      "image/png": "[encoded data removed]",
      "text/plain": [
       "<Figure size 1000x600 with 1 Axes>"
      ]
     },
     "metadata": {},
     "output_type": "display_data"
    },
    {
     "data": {
      "image/png": "[encoded data removed]",
      "text/plain": [
       "<Figure size 1000x600 with 1 Axes>"
      ]
     },
     "metadata": {},
     "output_type": "display_data"
    },
    {
     "data": {
      "image/png": "[encoded data removed]",
      "text/plain": [
       "<Figure size 1000x600 with 1 Axes>"
      ]
     },
     "metadata": {},
     "output_type": "display_data"
    },
    {
     "data": {
      "image/png": "[encoded data removed]",
      "text/plain": [
       "<Figure size 1000x600 with 1 Axes>"
      ]
     },
     "metadata": {},
     "output_type": "display_data"
    },
    {
     "data": {
      "image/png": "[encoded data removed]",
      "text/plain": [
       "<Figure size 1000x600 with 1 Axes>"
      ]
     },
     "metadata": {},
     "output_type": "display_data"
    },
    {
     "data": {
      "image/png": "[encoded data removed]",
      "text/plain": [
       "<Figure size 1000x600 with 1 Axes>"
      ]
     },
     "metadata": {},
     "output_type": "display_data"
    }
   ],
   "source": [
    "for num_col in final_num_cols.columns:\n",
    "    plt.figure(figsize=(10, 6))\n",
    "    plt.hist(final[num_col], bins=20, color='skyblue', edgecolor='black', alpha=0.7)\n",
    "\n",
    "    plt.title(f'Histograma de {num_col}', fontsize=16)\n",
    "    plt.xlabel(f'{num_col}', fontsize=14)\n",
    "    plt.ylabel('Frecuencia', fontsize=14)\n",
    "    plt.grid(True, axis='y', linestyle='--', alpha=0.7)\n",
    "\n",
    "    plt.tight_layout()\n",
    "    plt.show()"
   ]
  },
  {
   "cell_type": "markdown",
   "id": "963e2278",
   "metadata": {},
   "source": [
    "**Análisis:** Después de ampliar el dataset original de 502 registros a más de 97 mil, los números en general siguen una línea bastante parecida. Las medias, los mínimos y máximos de variables como la edad, la presión académica, la satisfacción con los estudios y el estrés financiero se mantienen dentro de rangos lógicos. Esto es bueno porque significa que la ampliación respetó el comportamiento original de los datos."
   ]
  },
  {
   "cell_type": "markdown",
   "id": "bcc658fd",
   "metadata": {},
   "source": [
    "## Distribuciones de las categorías principales"
   ]
  },
  {
   "cell_type": "code",
   "execution_count": 79,
   "id": "f77ce6b7",
   "metadata": {},
   "outputs": [
    {
     "data": {
      "text/plain": [
       "['dietary_habits', 'suicidal_thoughts', 'family_history', 'depression']"
      ]
     },
     "execution_count": 79,
     "metadata": {},
     "output_type": "execute_result"
    }
   ],
   "source": [
    "final_cat_cols = []\n",
    "\n",
    "for c in final.columns:\n",
    "    if final[c].dtype == 'object':\n",
    "        final_cat_cols.append(c)\n",
    "\n",
    "final_cat_cols"
   ]
  },
  {
   "cell_type": "markdown",
   "id": "c16692d2",
   "metadata": {},
   "source": [
    "## Visualización de correlación entre variables"
   ]
  },
  {
   "cell_type": "code",
   "execution_count": 80,
   "id": "92a618ae",
   "metadata": {},
   "outputs": [
    {
     "data": {
      "application/vnd.microsoft.datawrangler.viewer.v0+json": {
       "columns": [
        {
         "name": "index",
         "rawType": "object",
         "type": "string"
        },
        {
         "name": "dietary_habits",
         "rawType": "float64",
         "type": "float"
        },
        {
         "name": "suicidal_thoughts",
         "rawType": "float64",
         "type": "float"
        },
        {
         "name": "family_history",
         "rawType": "float64",
         "type": "float"
        },
        {
         "name": "depression",
         "rawType": "float64",
         "type": "float"
        }
       ],
       "conversionMethod": "pd.DataFrame",
       "ref": "a1ed4146-78d4-4552-ba43-89c68d401aa2",
       "rows": [
        [
         "chi2",
         "4454.767993857761",
         "24943.58277804145",
         "310.4784611270263",
         "97232.99736348195"
        ],
        [
         "p_value",
         "0.0",
         "0.0",
         "1.7178902367260353e-69",
         "0.0"
        ]
       ],
       "shape": {
        "columns": 4,
        "rows": 2
       }
      },
      "text/html": [
       "<div>\n",
       "<style scoped>\n",
       "    .dataframe tbody tr th:only-of-type {\n",
       "        vertical-align: middle;\n",
       "    }\n",
       "\n",
       "    .dataframe tbody tr th {\n",
       "        vertical-align: top;\n",
       "    }\n",
       "\n",
       "    .dataframe thead th {\n",
       "        text-align: right;\n",
       "    }\n",
       "</style>\n",
       "<table border=\"1\" class=\"dataframe\">\n",
       "  <thead>\n",
       "    <tr style=\"text-align: right;\">\n",
       "      <th></th>\n",
       "      <th>dietary_habits</th>\n",
       "      <th>suicidal_thoughts</th>\n",
       "      <th>family_history</th>\n",
       "      <th>depression</th>\n",
       "    </tr>\n",
       "  </thead>\n",
       "  <tbody>\n",
       "    <tr>\n",
       "      <th>chi2</th>\n",
       "      <td>4454.767994</td>\n",
       "      <td>24943.582778</td>\n",
       "      <td>3.104785e+02</td>\n",
       "      <td>97232.997363</td>\n",
       "    </tr>\n",
       "    <tr>\n",
       "      <th>p_value</th>\n",
       "      <td>0.000000</td>\n",
       "      <td>0.000000</td>\n",
       "      <td>1.717890e-69</td>\n",
       "      <td>0.000000</td>\n",
       "    </tr>\n",
       "  </tbody>\n",
       "</table>\n",
       "</div>"
      ],
      "text/plain": [
       "         dietary_habits  suicidal_thoughts  family_history    depression\n",
       "chi2        4454.767994       24943.582778    3.104785e+02  97232.997363\n",
       "p_value        0.000000           0.000000    1.717890e-69      0.000000"
      ]
     },
     "execution_count": 80,
     "metadata": {},
     "output_type": "execute_result"
    }
   ],
   "source": [
    "chi2_results = {}\n",
    "for col in final_cat_cols:\n",
    "    contingency = pd.crosstab(final[col], final['depression'])\n",
    "    chi2, p, dof, expected = chi2_contingency(contingency)\n",
    "    chi2_results[col] = {'chi2': chi2, 'p_value': p}\n",
    "\n",
    "chi2_df = pd.DataFrame(chi2_results)\n",
    "chi2_df"
   ]
  },
  {
   "cell_type": "code",
   "execution_count": 81,
   "id": "203e3f9a",
   "metadata": {},
   "outputs": [
    {
     "data": {
      "image/png": "[encoded data removed]",
      "text/plain": [
       "<Figure size 1000x800 with 2 Axes>"
      ]
     },
     "metadata": {},
     "output_type": "display_data"
    }
   ],
   "source": [
    "variables = [x[0] for x in chi2_results.items()]\n",
    "p_values = [x[1]['p_value'] for x in chi2_results.items()]\n",
    "chi2_values = [x[1]['chi2'] for x in chi2_results.items()]\n",
    "\n",
    "fig, ax = plt.subplots(2, 1, figsize=(10, 8))\n",
    "\n",
    "ax[0].barh(variables, chi2_values, color='skyblue')\n",
    "ax[0].set_title('Valores de chi cuadrado por variable')\n",
    "ax[0].set_xlabel('Chi cuadrado')\n",
    "ax[0].set_xscale('log')\n",
    "\n",
    "ax[1].barh(variables, p_values, color='salmon')\n",
    "ax[1].set_title('Valores p por variable')\n",
    "ax[1].set_xlabel('p valor')\n",
    "ax[1].set_xscale('log')\n",
    "\n",
    "plt.tight_layout()\n",
    "plt.show()"
   ]
  },
  {
   "cell_type": "markdown",
   "id": "a3b40ca2",
   "metadata": {},
   "source": [
    "Las gráficas muestran qué variables están más asociadas con la depresión según la prueba de Chi-cuadrado. Suicidal_thoughts, dietary_habits y family_history tienen una fuerte relación con la depresión, pero ahora, menos variables resultan estadísticamente significativas. Esto sugiere que hubo cambios en los datos o en el umbral de significancia, lo que podría haber reducido la cantidad de variables consideradas relevantes."
   ]
  },
  {
   "cell_type": "markdown",
   "id": "21bc64d3",
   "metadata": {},
   "source": [
    "Podemos observar que la ampliación del conjunto de datos ha influido directamente en la distribución de las variables numéricas, las cuales, al expandirse, tienden a adoptar una forma más cercana a la distribución normal, en contraste con el comportamiento observado en el conjunto de datos original.\n",
    "\n",
    "Aún así no se observan cambios significativos en los valores estadisticos, donde estos o se mantienen completamente igual o se acercan mucho. "
   ]
  },
  {
   "cell_type": "markdown",
   "id": "48383164",
   "metadata": {},
   "source": [
    "# 5. Informe Final\n",
    "Documenten cada uno de los pasos seguidos en un informe en Jupyter Notebook.\n",
    "Incluir en el informe:\n",
    "- Dataset original y sus características principales.\n",
    "- EDA del dataset original y análisis.\n",
    "- Descripción del proceso de simulación.\n",
    "- EDA del dataset expandido y análisis comparativo.\n",
    "- Conclusiones sobre la efectividad de la simulación para aumentar la cantidad de datos sin alterar significativamente sus propiedades estadísticas."
   ]
  },
  {
   "cell_type": "markdown",
   "id": "4eeb41c6",
   "metadata": {},
   "source": [
    "## Conclusiones"
   ]
  },
  {
   "cell_type": "markdown",
   "id": "948f5372",
   "metadata": {},
   "source": [
    "Al comparar tanto el conjunto de datos original como el extendido, se observa que ambas muestras conservan distribuciones y relaciones estadísticas consistentes. Esto indica que los parámetros clave como los valores mínimos, máximos, promedios y desviaciones estándar se mantienen intactos, lo cual sugiere que el proceso de expansión se realizó de manera apropiada. Como resultado, podemos estar seguros de que la simulación no ha alterado las características fundamentales del dataset. En consecuencia, el conjunto de datos ampliado es perfectamente válido para realizar análisis adicionales, ya que refleja fielmente las distribuciones del conjunto original, pero con una mayor cantidad de datos, lo que fortalece la fiabilidad de cualquier análisis posterior."
   ]
  }
 ],
 "metadata": {
  "kernelspec": {
   "display_name": "Python 3",
   "language": "python",
   "name": "python3"
  },
  "language_info": {
   "codemirror_mode": {
    "name": "ipython",
    "version": 3
   },
   "file_extension": ".py",
   "mimetype": "text/x-python",
   "name": "python",
   "nbconvert_exporter": "python",
   "pygments_lexer": "ipython3",
   "version": "3.13.1"
  }
 },
 "nbformat": 4,
 "nbformat_minor": 5
}
